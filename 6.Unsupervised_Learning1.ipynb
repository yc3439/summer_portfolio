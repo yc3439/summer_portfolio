{
 "cells": [
  {
   "cell_type": "code",
   "execution_count": 1,
   "metadata": {
    "collapsed": true
   },
   "outputs": [],
   "source": [
    "import re\n",
    "import numpy as np\n",
    "import pandas as pd\n",
    "import matplotlib.pyplot as plt\n",
    "import seaborn as sns\n",
    "\n",
    "from datetime import datetime\n",
    "from sklearn.preprocessing import StandardScaler\n",
    "from pyod.models.knn import KNN\n",
    "from sklearn.model_selection import train_test_split\n",
    "from pyod.models.pca import PCA\n",
    "from numpy import inf"
   ]
  },
  {
   "cell_type": "markdown",
   "metadata": {},
   "source": [
    "## Table Of Content:\n",
    "* [Data Cleaning](#first-bullet)\n",
    "* [Feature Engineering](#second-bullet)\n",
    "* [KNN](#third-bullet)\n",
    "    * [KNN without groupby](#fourth-bullet)\n",
    "    * [KNN after groupby \"Last First\" column](#fifth-bullet)\n",
    "* [PCA](#sixth-bullet)\n",
    "    * [PCA without groupby](#seventh-bullet)\n",
    "    * [PCA with different feature engineering method](#eighth-bullet)\n"
   ]
  },
  {
   "cell_type": "code",
   "execution_count": 2,
   "metadata": {
    "collapsed": true
   },
   "outputs": [],
   "source": [
    "data = pd.read_csv('/Users/liangshiting/Desktop/MYSELF/purchase_credit_card.csv')"
   ]
  },
  {
   "cell_type": "code",
   "execution_count": 3,
   "metadata": {
    "scrolled": true
   },
   "outputs": [
    {
     "data": {
      "text/plain": [
       "<matplotlib.axes._subplots.AxesSubplot at 0x1a1da55f60>"
      ]
     },
     "execution_count": 3,
     "metadata": {},
     "output_type": "execute_result"
    }
   ],
   "source": [
    "# the number of distribution is even throughout the time periods\n",
    "sns.countplot(y = data['Year-Month'])"
   ]
  },
  {
   "cell_type": "code",
   "execution_count": 4,
   "metadata": {
    "scrolled": false
   },
   "outputs": [
    {
     "data": {
      "text/plain": [
       "Year-Month                         12\n",
       "Agency Number                     116\n",
       "Agency Name                       124\n",
       "Cardholder Last Name             3911\n",
       "Cardholder First Initial           38\n",
       "Description                     88749\n",
       "Amount                          90447\n",
       "Vendor                          86729\n",
       "Transaction Date                  392\n",
       "Posted Date                       258\n",
       "Merchant Category Code (MCC)      435\n",
       "dtype: int64"
      ]
     },
     "execution_count": 4,
     "metadata": {},
     "output_type": "execute_result"
    }
   ],
   "source": [
    "# identify the number of unique categories in each column\n",
    "data.nunique()"
   ]
  },
  {
   "cell_type": "code",
   "execution_count": 5,
   "metadata": {},
   "outputs": [
    {
     "data": {
      "text/html": [
       "<div>\n",
       "<style>\n",
       "    .dataframe thead tr:only-child th {\n",
       "        text-align: right;\n",
       "    }\n",
       "\n",
       "    .dataframe thead th {\n",
       "        text-align: left;\n",
       "    }\n",
       "\n",
       "    .dataframe tbody tr th {\n",
       "        vertical-align: top;\n",
       "    }\n",
       "</style>\n",
       "<table border=\"1\" class=\"dataframe\">\n",
       "  <thead>\n",
       "    <tr style=\"text-align: right;\">\n",
       "      <th></th>\n",
       "      <th>Last First</th>\n",
       "      <th>Year-Month</th>\n",
       "      <th>Agency Number</th>\n",
       "      <th>Agency Name</th>\n",
       "      <th>Cardholder Last Name</th>\n",
       "      <th>Cardholder First Initial</th>\n",
       "      <th>Description</th>\n",
       "      <th>Amount</th>\n",
       "      <th>Vendor</th>\n",
       "      <th>Transaction Date</th>\n",
       "      <th>Posted Date</th>\n",
       "      <th>Merchant Category Code (MCC)</th>\n",
       "    </tr>\n",
       "  </thead>\n",
       "  <tbody>\n",
       "    <tr>\n",
       "      <th>0</th>\n",
       "      <td>MasonC</td>\n",
       "      <td>201307</td>\n",
       "      <td>1000</td>\n",
       "      <td>OKLAHOMA STATE UNIVERSITY</td>\n",
       "      <td>Mason</td>\n",
       "      <td>C</td>\n",
       "      <td>GENERAL PURCHASE</td>\n",
       "      <td>890.00</td>\n",
       "      <td>NACAS</td>\n",
       "      <td>07/30/2013 12:00:00 AM</td>\n",
       "      <td>07/31/2013 12:00:00 AM</td>\n",
       "      <td>CHARITABLE AND SOCIAL SERVICE ORGANIZATIONS</td>\n",
       "    </tr>\n",
       "    <tr>\n",
       "      <th>1</th>\n",
       "      <td>MasonC</td>\n",
       "      <td>201307</td>\n",
       "      <td>1000</td>\n",
       "      <td>OKLAHOMA STATE UNIVERSITY</td>\n",
       "      <td>Mason</td>\n",
       "      <td>C</td>\n",
       "      <td>ROOM CHARGES</td>\n",
       "      <td>368.96</td>\n",
       "      <td>SHERATON HOTEL</td>\n",
       "      <td>07/30/2013 12:00:00 AM</td>\n",
       "      <td>07/31/2013 12:00:00 AM</td>\n",
       "      <td>SHERATON</td>\n",
       "    </tr>\n",
       "    <tr>\n",
       "      <th>2</th>\n",
       "      <td>MasseyJ</td>\n",
       "      <td>201307</td>\n",
       "      <td>1000</td>\n",
       "      <td>OKLAHOMA STATE UNIVERSITY</td>\n",
       "      <td>Massey</td>\n",
       "      <td>J</td>\n",
       "      <td>GENERAL PURCHASE</td>\n",
       "      <td>165.82</td>\n",
       "      <td>SEARS.COM 9300</td>\n",
       "      <td>07/29/2013 12:00:00 AM</td>\n",
       "      <td>07/31/2013 12:00:00 AM</td>\n",
       "      <td>DIRCT MARKETING/DIRCT MARKETERS--NOT ELSEWHERE...</td>\n",
       "    </tr>\n",
       "    <tr>\n",
       "      <th>3</th>\n",
       "      <td>MasseyT</td>\n",
       "      <td>201307</td>\n",
       "      <td>1000</td>\n",
       "      <td>OKLAHOMA STATE UNIVERSITY</td>\n",
       "      <td>Massey</td>\n",
       "      <td>T</td>\n",
       "      <td>GENERAL PURCHASE</td>\n",
       "      <td>96.39</td>\n",
       "      <td>WAL-MART #0137</td>\n",
       "      <td>07/30/2013 12:00:00 AM</td>\n",
       "      <td>07/31/2013 12:00:00 AM</td>\n",
       "      <td>GROCERY STORES,AND SUPERMARKETS</td>\n",
       "    </tr>\n",
       "    <tr>\n",
       "      <th>4</th>\n",
       "      <td>Mauro-HerreraM</td>\n",
       "      <td>201307</td>\n",
       "      <td>1000</td>\n",
       "      <td>OKLAHOMA STATE UNIVERSITY</td>\n",
       "      <td>Mauro-Herrera</td>\n",
       "      <td>M</td>\n",
       "      <td>HAMMERMILL COPY PLUS COPY EA</td>\n",
       "      <td>125.96</td>\n",
       "      <td>STAPLES DIRECT</td>\n",
       "      <td>07/30/2013 12:00:00 AM</td>\n",
       "      <td>07/31/2013 12:00:00 AM</td>\n",
       "      <td>STATIONERY, OFFICE SUPPLIES, PRINTING AND WRIT...</td>\n",
       "    </tr>\n",
       "  </tbody>\n",
       "</table>\n",
       "</div>"
      ],
      "text/plain": [
       "       Last First  Year-Month  Agency Number                Agency Name  \\\n",
       "0          MasonC      201307           1000  OKLAHOMA STATE UNIVERSITY   \n",
       "1          MasonC      201307           1000  OKLAHOMA STATE UNIVERSITY   \n",
       "2         MasseyJ      201307           1000  OKLAHOMA STATE UNIVERSITY   \n",
       "3         MasseyT      201307           1000  OKLAHOMA STATE UNIVERSITY   \n",
       "4  Mauro-HerreraM      201307           1000  OKLAHOMA STATE UNIVERSITY   \n",
       "\n",
       "  Cardholder Last Name Cardholder First Initial                   Description  \\\n",
       "0                Mason                        C              GENERAL PURCHASE   \n",
       "1                Mason                        C                  ROOM CHARGES   \n",
       "2               Massey                        J              GENERAL PURCHASE   \n",
       "3               Massey                        T              GENERAL PURCHASE   \n",
       "4        Mauro-Herrera                        M  HAMMERMILL COPY PLUS COPY EA   \n",
       "\n",
       "   Amount          Vendor        Transaction Date             Posted Date  \\\n",
       "0  890.00           NACAS  07/30/2013 12:00:00 AM  07/31/2013 12:00:00 AM   \n",
       "1  368.96  SHERATON HOTEL  07/30/2013 12:00:00 AM  07/31/2013 12:00:00 AM   \n",
       "2  165.82  SEARS.COM 9300  07/29/2013 12:00:00 AM  07/31/2013 12:00:00 AM   \n",
       "3   96.39  WAL-MART #0137  07/30/2013 12:00:00 AM  07/31/2013 12:00:00 AM   \n",
       "4  125.96  STAPLES DIRECT  07/30/2013 12:00:00 AM  07/31/2013 12:00:00 AM   \n",
       "\n",
       "                        Merchant Category Code (MCC)  \n",
       "0        CHARITABLE AND SOCIAL SERVICE ORGANIZATIONS  \n",
       "1                                           SHERATON  \n",
       "2  DIRCT MARKETING/DIRCT MARKETERS--NOT ELSEWHERE...  \n",
       "3                    GROCERY STORES,AND SUPERMARKETS  \n",
       "4  STATIONERY, OFFICE SUPPLIES, PRINTING AND WRIT...  "
      ]
     },
     "execution_count": 5,
     "metadata": {},
     "output_type": "execute_result"
    }
   ],
   "source": [
    "# create a unique identifier by combining Last and First name strings\n",
    "data.insert(0,\n",
    "            column='Last First',\n",
    "            value=data['Cardholder Last Name'] +\n",
    "            data['Cardholder First Initial'])\n",
    "data.head(5)"
   ]
  },
  {
   "cell_type": "code",
   "execution_count": 6,
   "metadata": {},
   "outputs": [
    {
     "name": "stdout",
     "output_type": "stream",
     "text": [
      "22888\n",
      "14531\n"
     ]
    }
   ],
   "source": [
    "# check the duplicate rows in the dataset\n",
    "print(data.duplicated(keep=False).sum())\n",
    "# check the negative values in the dataset\n",
    "print(data[data[\"Amount\"] < 0].count()[0])"
   ]
  },
  {
   "cell_type": "code",
   "execution_count": 7,
   "metadata": {
    "scrolled": true
   },
   "outputs": [
    {
     "data": {
      "text/plain": [
       "Last First                       object\n",
       "Year-Month                        int64\n",
       "Agency Number                     int64\n",
       "Agency Name                      object\n",
       "Cardholder Last Name             object\n",
       "Cardholder First Initial         object\n",
       "Description                      object\n",
       "Amount                          float64\n",
       "Vendor                           object\n",
       "Transaction Date                 object\n",
       "Posted Date                      object\n",
       "Merchant Category Code (MCC)     object\n",
       "dtype: object"
      ]
     },
     "execution_count": 7,
     "metadata": {},
     "output_type": "execute_result"
    }
   ],
   "source": [
    "# check the datatypes for each column\n",
    "data.dtypes"
   ]
  },
  {
   "cell_type": "markdown",
   "metadata": {},
   "source": [
    "# Data Cleaning <a class='anchor' id='first-bullet'><a>\n"
   ]
  },
  {
   "cell_type": "code",
   "execution_count": 8,
   "metadata": {
    "scrolled": true
   },
   "outputs": [
    {
     "data": {
      "text/html": [
       "<div>\n",
       "<style>\n",
       "    .dataframe thead tr:only-child th {\n",
       "        text-align: right;\n",
       "    }\n",
       "\n",
       "    .dataframe thead th {\n",
       "        text-align: left;\n",
       "    }\n",
       "\n",
       "    .dataframe tbody tr th {\n",
       "        vertical-align: top;\n",
       "    }\n",
       "</style>\n",
       "<table border=\"1\" class=\"dataframe\">\n",
       "  <thead>\n",
       "    <tr style=\"text-align: right;\">\n",
       "      <th></th>\n",
       "      <th>Last First</th>\n",
       "      <th>Year-Month</th>\n",
       "      <th>Agency Number</th>\n",
       "      <th>Agency Name</th>\n",
       "      <th>Cardholder Last Name</th>\n",
       "      <th>Cardholder First Initial</th>\n",
       "      <th>Description</th>\n",
       "      <th>Amount</th>\n",
       "      <th>Vendor</th>\n",
       "      <th>Transaction Date</th>\n",
       "      <th>Posted Date</th>\n",
       "      <th>Merchant Category Code (MCC)</th>\n",
       "    </tr>\n",
       "  </thead>\n",
       "  <tbody>\n",
       "    <tr>\n",
       "      <th>0</th>\n",
       "      <td>MasonC</td>\n",
       "      <td>201307</td>\n",
       "      <td>1000</td>\n",
       "      <td>OKLAHOMA STATE UNIVERSITY</td>\n",
       "      <td>Mason</td>\n",
       "      <td>C</td>\n",
       "      <td>GENERAL PURCHASE</td>\n",
       "      <td>890.00</td>\n",
       "      <td>NACAS</td>\n",
       "      <td>2013-07-30</td>\n",
       "      <td>2013-07-31</td>\n",
       "      <td>CHARITABLE AND SOCIAL SERVICE ORGANIZATIONS</td>\n",
       "    </tr>\n",
       "    <tr>\n",
       "      <th>1</th>\n",
       "      <td>MasonC</td>\n",
       "      <td>201307</td>\n",
       "      <td>1000</td>\n",
       "      <td>OKLAHOMA STATE UNIVERSITY</td>\n",
       "      <td>Mason</td>\n",
       "      <td>C</td>\n",
       "      <td>ROOM CHARGES</td>\n",
       "      <td>368.96</td>\n",
       "      <td>SHERATON HOTEL</td>\n",
       "      <td>2013-07-30</td>\n",
       "      <td>2013-07-31</td>\n",
       "      <td>SHERATON</td>\n",
       "    </tr>\n",
       "    <tr>\n",
       "      <th>2</th>\n",
       "      <td>MasseyJ</td>\n",
       "      <td>201307</td>\n",
       "      <td>1000</td>\n",
       "      <td>OKLAHOMA STATE UNIVERSITY</td>\n",
       "      <td>Massey</td>\n",
       "      <td>J</td>\n",
       "      <td>GENERAL PURCHASE</td>\n",
       "      <td>165.82</td>\n",
       "      <td>SEARS.COM 9300</td>\n",
       "      <td>2013-07-29</td>\n",
       "      <td>2013-07-31</td>\n",
       "      <td>DIRCT MARKETING/DIRCT MARKETERS--NOT ELSEWHERE...</td>\n",
       "    </tr>\n",
       "  </tbody>\n",
       "</table>\n",
       "</div>"
      ],
      "text/plain": [
       "  Last First  Year-Month  Agency Number                Agency Name  \\\n",
       "0     MasonC      201307           1000  OKLAHOMA STATE UNIVERSITY   \n",
       "1     MasonC      201307           1000  OKLAHOMA STATE UNIVERSITY   \n",
       "2    MasseyJ      201307           1000  OKLAHOMA STATE UNIVERSITY   \n",
       "\n",
       "  Cardholder Last Name Cardholder First Initial       Description  Amount  \\\n",
       "0                Mason                        C  GENERAL PURCHASE  890.00   \n",
       "1                Mason                        C      ROOM CHARGES  368.96   \n",
       "2               Massey                        J  GENERAL PURCHASE  165.82   \n",
       "\n",
       "           Vendor Transaction Date Posted Date  \\\n",
       "0           NACAS       2013-07-30  2013-07-31   \n",
       "1  SHERATON HOTEL       2013-07-30  2013-07-31   \n",
       "2  SEARS.COM 9300       2013-07-29  2013-07-31   \n",
       "\n",
       "                        Merchant Category Code (MCC)  \n",
       "0        CHARITABLE AND SOCIAL SERVICE ORGANIZATIONS  \n",
       "1                                           SHERATON  \n",
       "2  DIRCT MARKETING/DIRCT MARKETERS--NOT ELSEWHERE...  "
      ]
     },
     "execution_count": 8,
     "metadata": {},
     "output_type": "execute_result"
    }
   ],
   "source": [
    "# convert date columns into datetime\n",
    "data['Transaction Date'] = pd.to_datetime(data['Transaction Date'])\n",
    "data['Posted Date'] = pd.to_datetime(data['Posted Date'])\n",
    "data.head(3)"
   ]
  },
  {
   "cell_type": "code",
   "execution_count": 9,
   "metadata": {},
   "outputs": [
    {
     "data": {
      "text/html": [
       "<div>\n",
       "<style>\n",
       "    .dataframe thead tr:only-child th {\n",
       "        text-align: right;\n",
       "    }\n",
       "\n",
       "    .dataframe thead th {\n",
       "        text-align: left;\n",
       "    }\n",
       "\n",
       "    .dataframe tbody tr th {\n",
       "        vertical-align: top;\n",
       "    }\n",
       "</style>\n",
       "<table border=\"1\" class=\"dataframe\">\n",
       "  <thead>\n",
       "    <tr style=\"text-align: right;\">\n",
       "      <th></th>\n",
       "      <th>count</th>\n",
       "      <th>mean</th>\n",
       "      <th>std</th>\n",
       "      <th>min</th>\n",
       "      <th>25%</th>\n",
       "      <th>50%</th>\n",
       "      <th>75%</th>\n",
       "      <th>max</th>\n",
       "    </tr>\n",
       "    <tr>\n",
       "      <th>Last First</th>\n",
       "      <th></th>\n",
       "      <th></th>\n",
       "      <th></th>\n",
       "      <th></th>\n",
       "      <th></th>\n",
       "      <th></th>\n",
       "      <th></th>\n",
       "      <th></th>\n",
       "    </tr>\n",
       "  </thead>\n",
       "  <tbody>\n",
       "    <tr>\n",
       "      <th>JOURNEY HOUSE TRAVEL INCG</th>\n",
       "      <td>10137.0</td>\n",
       "      <td>289.078843</td>\n",
       "      <td>533.340907</td>\n",
       "      <td>-3136.06</td>\n",
       "      <td>20.0000</td>\n",
       "      <td>177.800</td>\n",
       "      <td>484.0000</td>\n",
       "      <td>16474.00</td>\n",
       "    </tr>\n",
       "    <tr>\n",
       "      <th>UNIVERSITY AMERICANG</th>\n",
       "      <td>7219.0</td>\n",
       "      <td>340.917249</td>\n",
       "      <td>870.966472</td>\n",
       "      <td>-3708.03</td>\n",
       "      <td>20.0000</td>\n",
       "      <td>244.800</td>\n",
       "      <td>500.0000</td>\n",
       "      <td>34151.60</td>\n",
       "    </tr>\n",
       "    <tr>\n",
       "      <th>JOURNEY HOUSE TRAVELG</th>\n",
       "      <td>4693.0</td>\n",
       "      <td>242.139874</td>\n",
       "      <td>412.521063</td>\n",
       "      <td>-1865.10</td>\n",
       "      <td>20.0000</td>\n",
       "      <td>20.000</td>\n",
       "      <td>451.0000</td>\n",
       "      <td>8286.30</td>\n",
       "    </tr>\n",
       "    <tr>\n",
       "      <th>HeuselJ</th>\n",
       "      <td>4212.0</td>\n",
       "      <td>304.056930</td>\n",
       "      <td>513.145126</td>\n",
       "      <td>-2676.60</td>\n",
       "      <td>46.1925</td>\n",
       "      <td>140.035</td>\n",
       "      <td>355.7175</td>\n",
       "      <td>4998.00</td>\n",
       "    </tr>\n",
       "    <tr>\n",
       "      <th>HinesG</th>\n",
       "      <td>3309.0</td>\n",
       "      <td>506.707579</td>\n",
       "      <td>817.430387</td>\n",
       "      <td>-1774.30</td>\n",
       "      <td>62.0000</td>\n",
       "      <td>192.360</td>\n",
       "      <td>566.0200</td>\n",
       "      <td>4999.35</td>\n",
       "    </tr>\n",
       "    <tr>\n",
       "      <th>BowersR</th>\n",
       "      <td>2448.0</td>\n",
       "      <td>168.346887</td>\n",
       "      <td>317.481730</td>\n",
       "      <td>-810.00</td>\n",
       "      <td>25.9750</td>\n",
       "      <td>70.190</td>\n",
       "      <td>177.8425</td>\n",
       "      <td>3855.60</td>\n",
       "    </tr>\n",
       "    <tr>\n",
       "      <th>TornakianM</th>\n",
       "      <td>2267.0</td>\n",
       "      <td>576.290591</td>\n",
       "      <td>873.509912</td>\n",
       "      <td>-1971.88</td>\n",
       "      <td>85.2450</td>\n",
       "      <td>234.840</td>\n",
       "      <td>647.3950</td>\n",
       "      <td>4979.00</td>\n",
       "    </tr>\n",
       "    <tr>\n",
       "      <th>MCDOWELLK</th>\n",
       "      <td>2112.0</td>\n",
       "      <td>272.215592</td>\n",
       "      <td>428.060450</td>\n",
       "      <td>-895.37</td>\n",
       "      <td>25.0000</td>\n",
       "      <td>121.800</td>\n",
       "      <td>435.0000</td>\n",
       "      <td>5419.15</td>\n",
       "    </tr>\n",
       "    <tr>\n",
       "      <th>HANNAHA</th>\n",
       "      <td>1961.0</td>\n",
       "      <td>132.561295</td>\n",
       "      <td>176.504113</td>\n",
       "      <td>-875.04</td>\n",
       "      <td>29.3800</td>\n",
       "      <td>80.460</td>\n",
       "      <td>183.9800</td>\n",
       "      <td>1633.44</td>\n",
       "    </tr>\n",
       "    <tr>\n",
       "      <th>StroupP</th>\n",
       "      <td>1939.0</td>\n",
       "      <td>691.515833</td>\n",
       "      <td>898.022919</td>\n",
       "      <td>-2125.00</td>\n",
       "      <td>121.6200</td>\n",
       "      <td>345.000</td>\n",
       "      <td>911.0000</td>\n",
       "      <td>4999.95</td>\n",
       "    </tr>\n",
       "    <tr>\n",
       "      <th>HENDONS</th>\n",
       "      <td>1722.0</td>\n",
       "      <td>613.061225</td>\n",
       "      <td>2290.708303</td>\n",
       "      <td>-4295.63</td>\n",
       "      <td>65.1100</td>\n",
       "      <td>201.630</td>\n",
       "      <td>514.8400</td>\n",
       "      <td>64651.00</td>\n",
       "    </tr>\n",
       "    <tr>\n",
       "      <th>CARDHOLDERF</th>\n",
       "      <td>1673.0</td>\n",
       "      <td>48.113311</td>\n",
       "      <td>102.774605</td>\n",
       "      <td>-73.15</td>\n",
       "      <td>24.6200</td>\n",
       "      <td>38.000</td>\n",
       "      <td>57.0000</td>\n",
       "      <td>3687.27</td>\n",
       "    </tr>\n",
       "    <tr>\n",
       "      <th>Cardholdere</th>\n",
       "      <td>1629.0</td>\n",
       "      <td>10961.525862</td>\n",
       "      <td>49986.796658</td>\n",
       "      <td>-9000.00</td>\n",
       "      <td>369.9000</td>\n",
       "      <td>1720.000</td>\n",
       "      <td>6653.3000</td>\n",
       "      <td>1089180.00</td>\n",
       "    </tr>\n",
       "    <tr>\n",
       "      <th>BENTLEY HEDGES TRAVELG</th>\n",
       "      <td>1543.0</td>\n",
       "      <td>291.920940</td>\n",
       "      <td>638.099751</td>\n",
       "      <td>-1911.33</td>\n",
       "      <td>29.0000</td>\n",
       "      <td>29.000</td>\n",
       "      <td>463.0500</td>\n",
       "      <td>14856.50</td>\n",
       "    </tr>\n",
       "    <tr>\n",
       "      <th>DEVERJ</th>\n",
       "      <td>1476.0</td>\n",
       "      <td>367.159621</td>\n",
       "      <td>678.063306</td>\n",
       "      <td>-1170.70</td>\n",
       "      <td>37.2125</td>\n",
       "      <td>138.355</td>\n",
       "      <td>395.4950</td>\n",
       "      <td>4981.00</td>\n",
       "    </tr>\n",
       "    <tr>\n",
       "      <th>TOTAL TRAVEL OF TULSAG</th>\n",
       "      <td>1414.0</td>\n",
       "      <td>231.759682</td>\n",
       "      <td>307.679830</td>\n",
       "      <td>-757.60</td>\n",
       "      <td>34.0000</td>\n",
       "      <td>50.000</td>\n",
       "      <td>458.6500</td>\n",
       "      <td>3247.90</td>\n",
       "    </tr>\n",
       "    <tr>\n",
       "      <th>DEMPSEYP</th>\n",
       "      <td>1313.0</td>\n",
       "      <td>16.624501</td>\n",
       "      <td>16.321916</td>\n",
       "      <td>-20.90</td>\n",
       "      <td>12.1200</td>\n",
       "      <td>13.150</td>\n",
       "      <td>16.4200</td>\n",
       "      <td>370.77</td>\n",
       "    </tr>\n",
       "    <tr>\n",
       "      <th>HARJOA</th>\n",
       "      <td>1220.0</td>\n",
       "      <td>352.929041</td>\n",
       "      <td>484.644524</td>\n",
       "      <td>-566.10</td>\n",
       "      <td>87.3600</td>\n",
       "      <td>215.290</td>\n",
       "      <td>418.7250</td>\n",
       "      <td>4020.39</td>\n",
       "    </tr>\n",
       "    <tr>\n",
       "      <th>TurnerD</th>\n",
       "      <td>1208.0</td>\n",
       "      <td>266.756043</td>\n",
       "      <td>392.513629</td>\n",
       "      <td>-4125.00</td>\n",
       "      <td>53.4750</td>\n",
       "      <td>147.870</td>\n",
       "      <td>356.0375</td>\n",
       "      <td>3620.51</td>\n",
       "    </tr>\n",
       "    <tr>\n",
       "      <th>GomezK</th>\n",
       "      <td>1192.0</td>\n",
       "      <td>574.642727</td>\n",
       "      <td>2379.332260</td>\n",
       "      <td>-18899.00</td>\n",
       "      <td>77.0000</td>\n",
       "      <td>172.860</td>\n",
       "      <td>423.8550</td>\n",
       "      <td>47930.16</td>\n",
       "    </tr>\n",
       "    <tr>\n",
       "      <th>DevineL</th>\n",
       "      <td>1164.0</td>\n",
       "      <td>436.606967</td>\n",
       "      <td>792.583050</td>\n",
       "      <td>-1159.15</td>\n",
       "      <td>43.7200</td>\n",
       "      <td>161.215</td>\n",
       "      <td>442.6075</td>\n",
       "      <td>8236.08</td>\n",
       "    </tr>\n",
       "    <tr>\n",
       "      <th>DavisG</th>\n",
       "      <td>1124.0</td>\n",
       "      <td>489.404448</td>\n",
       "      <td>804.196851</td>\n",
       "      <td>-3128.85</td>\n",
       "      <td>55.3950</td>\n",
       "      <td>183.070</td>\n",
       "      <td>537.3000</td>\n",
       "      <td>4962.60</td>\n",
       "    </tr>\n",
       "    <tr>\n",
       "      <th>WillisR</th>\n",
       "      <td>1119.0</td>\n",
       "      <td>238.910599</td>\n",
       "      <td>332.932041</td>\n",
       "      <td>-1290.43</td>\n",
       "      <td>53.0800</td>\n",
       "      <td>133.440</td>\n",
       "      <td>300.3100</td>\n",
       "      <td>2235.00</td>\n",
       "    </tr>\n",
       "    <tr>\n",
       "      <th>BatenhorstA</th>\n",
       "      <td>1089.0</td>\n",
       "      <td>108.058843</td>\n",
       "      <td>421.297118</td>\n",
       "      <td>-222.99</td>\n",
       "      <td>9.7600</td>\n",
       "      <td>23.980</td>\n",
       "      <td>62.5300</td>\n",
       "      <td>4970.26</td>\n",
       "    </tr>\n",
       "    <tr>\n",
       "      <th>RobinsonC</th>\n",
       "      <td>1064.0</td>\n",
       "      <td>575.947058</td>\n",
       "      <td>1867.731262</td>\n",
       "      <td>-630.60</td>\n",
       "      <td>94.6175</td>\n",
       "      <td>231.615</td>\n",
       "      <td>557.3550</td>\n",
       "      <td>53523.74</td>\n",
       "    </tr>\n",
       "    <tr>\n",
       "      <th>PanickerM</th>\n",
       "      <td>1026.0</td>\n",
       "      <td>346.700702</td>\n",
       "      <td>657.565242</td>\n",
       "      <td>-935.34</td>\n",
       "      <td>51.9550</td>\n",
       "      <td>158.965</td>\n",
       "      <td>386.9775</td>\n",
       "      <td>10440.00</td>\n",
       "    </tr>\n",
       "    <tr>\n",
       "      <th>LewisG</th>\n",
       "      <td>1001.0</td>\n",
       "      <td>1241.923087</td>\n",
       "      <td>4731.826828</td>\n",
       "      <td>-34108.00</td>\n",
       "      <td>38.7000</td>\n",
       "      <td>140.000</td>\n",
       "      <td>599.9800</td>\n",
       "      <td>63500.00</td>\n",
       "    </tr>\n",
       "    <tr>\n",
       "      <th>McKeeS</th>\n",
       "      <td>933.0</td>\n",
       "      <td>646.853290</td>\n",
       "      <td>1132.218895</td>\n",
       "      <td>-3152.50</td>\n",
       "      <td>99.7400</td>\n",
       "      <td>263.000</td>\n",
       "      <td>660.6800</td>\n",
       "      <td>11398.80</td>\n",
       "    </tr>\n",
       "    <tr>\n",
       "      <th>LoftonL</th>\n",
       "      <td>933.0</td>\n",
       "      <td>262.798242</td>\n",
       "      <td>419.836097</td>\n",
       "      <td>-3201.50</td>\n",
       "      <td>25.0000</td>\n",
       "      <td>112.000</td>\n",
       "      <td>457.6000</td>\n",
       "      <td>4700.09</td>\n",
       "    </tr>\n",
       "    <tr>\n",
       "      <th>SAUSINSL</th>\n",
       "      <td>917.0</td>\n",
       "      <td>1089.986009</td>\n",
       "      <td>1413.726302</td>\n",
       "      <td>-2514.98</td>\n",
       "      <td>136.7700</td>\n",
       "      <td>797.630</td>\n",
       "      <td>1416.8500</td>\n",
       "      <td>11772.24</td>\n",
       "    </tr>\n",
       "    <tr>\n",
       "      <th>...</th>\n",
       "      <td>...</td>\n",
       "      <td>...</td>\n",
       "      <td>...</td>\n",
       "      <td>...</td>\n",
       "      <td>...</td>\n",
       "      <td>...</td>\n",
       "      <td>...</td>\n",
       "      <td>...</td>\n",
       "    </tr>\n",
       "    <tr>\n",
       "      <th>RubensteinD</th>\n",
       "      <td>1.0</td>\n",
       "      <td>121.890000</td>\n",
       "      <td>NaN</td>\n",
       "      <td>121.89</td>\n",
       "      <td>121.8900</td>\n",
       "      <td>121.890</td>\n",
       "      <td>121.8900</td>\n",
       "      <td>121.89</td>\n",
       "    </tr>\n",
       "    <tr>\n",
       "      <th>RoseK</th>\n",
       "      <td>1.0</td>\n",
       "      <td>139.110000</td>\n",
       "      <td>NaN</td>\n",
       "      <td>139.11</td>\n",
       "      <td>139.1100</td>\n",
       "      <td>139.110</td>\n",
       "      <td>139.1100</td>\n",
       "      <td>139.11</td>\n",
       "    </tr>\n",
       "    <tr>\n",
       "      <th>KroppB</th>\n",
       "      <td>1.0</td>\n",
       "      <td>684.080000</td>\n",
       "      <td>NaN</td>\n",
       "      <td>684.08</td>\n",
       "      <td>684.0800</td>\n",
       "      <td>684.080</td>\n",
       "      <td>684.0800</td>\n",
       "      <td>684.08</td>\n",
       "    </tr>\n",
       "    <tr>\n",
       "      <th>KithakyeS</th>\n",
       "      <td>1.0</td>\n",
       "      <td>201.000000</td>\n",
       "      <td>NaN</td>\n",
       "      <td>201.00</td>\n",
       "      <td>201.0000</td>\n",
       "      <td>201.000</td>\n",
       "      <td>201.0000</td>\n",
       "      <td>201.00</td>\n",
       "    </tr>\n",
       "    <tr>\n",
       "      <th>DuganC</th>\n",
       "      <td>1.0</td>\n",
       "      <td>8.270000</td>\n",
       "      <td>NaN</td>\n",
       "      <td>8.27</td>\n",
       "      <td>8.2700</td>\n",
       "      <td>8.270</td>\n",
       "      <td>8.2700</td>\n",
       "      <td>8.27</td>\n",
       "    </tr>\n",
       "    <tr>\n",
       "      <th>DunlopL</th>\n",
       "      <td>1.0</td>\n",
       "      <td>75.990000</td>\n",
       "      <td>NaN</td>\n",
       "      <td>75.99</td>\n",
       "      <td>75.9900</td>\n",
       "      <td>75.990</td>\n",
       "      <td>75.9900</td>\n",
       "      <td>75.99</td>\n",
       "    </tr>\n",
       "    <tr>\n",
       "      <th>DupreeJ</th>\n",
       "      <td>1.0</td>\n",
       "      <td>39.990000</td>\n",
       "      <td>NaN</td>\n",
       "      <td>39.99</td>\n",
       "      <td>39.9900</td>\n",
       "      <td>39.990</td>\n",
       "      <td>39.9900</td>\n",
       "      <td>39.99</td>\n",
       "    </tr>\n",
       "    <tr>\n",
       "      <th>EDDINGSA</th>\n",
       "      <td>1.0</td>\n",
       "      <td>12.740000</td>\n",
       "      <td>NaN</td>\n",
       "      <td>12.74</td>\n",
       "      <td>12.7400</td>\n",
       "      <td>12.740</td>\n",
       "      <td>12.7400</td>\n",
       "      <td>12.74</td>\n",
       "    </tr>\n",
       "    <tr>\n",
       "      <th>RitterB</th>\n",
       "      <td>1.0</td>\n",
       "      <td>83.000000</td>\n",
       "      <td>NaN</td>\n",
       "      <td>83.00</td>\n",
       "      <td>83.0000</td>\n",
       "      <td>83.000</td>\n",
       "      <td>83.0000</td>\n",
       "      <td>83.00</td>\n",
       "    </tr>\n",
       "    <tr>\n",
       "      <th>EPPLERC</th>\n",
       "      <td>1.0</td>\n",
       "      <td>15.950000</td>\n",
       "      <td>NaN</td>\n",
       "      <td>15.95</td>\n",
       "      <td>15.9500</td>\n",
       "      <td>15.950</td>\n",
       "      <td>15.9500</td>\n",
       "      <td>15.95</td>\n",
       "    </tr>\n",
       "    <tr>\n",
       "      <th>Davila De El RassiG</th>\n",
       "      <td>1.0</td>\n",
       "      <td>1300.000000</td>\n",
       "      <td>NaN</td>\n",
       "      <td>1300.00</td>\n",
       "      <td>1300.0000</td>\n",
       "      <td>1300.000</td>\n",
       "      <td>1300.0000</td>\n",
       "      <td>1300.00</td>\n",
       "    </tr>\n",
       "    <tr>\n",
       "      <th>SHOCKLEYS</th>\n",
       "      <td>1.0</td>\n",
       "      <td>-30.990000</td>\n",
       "      <td>NaN</td>\n",
       "      <td>-30.99</td>\n",
       "      <td>-30.9900</td>\n",
       "      <td>-30.990</td>\n",
       "      <td>-30.9900</td>\n",
       "      <td>-30.99</td>\n",
       "    </tr>\n",
       "    <tr>\n",
       "      <th>DYEL</th>\n",
       "      <td>1.0</td>\n",
       "      <td>1204.000000</td>\n",
       "      <td>NaN</td>\n",
       "      <td>1204.00</td>\n",
       "      <td>1204.0000</td>\n",
       "      <td>1204.000</td>\n",
       "      <td>1204.0000</td>\n",
       "      <td>1204.00</td>\n",
       "    </tr>\n",
       "    <tr>\n",
       "      <th>STRASBAUGHC</th>\n",
       "      <td>1.0</td>\n",
       "      <td>629.990000</td>\n",
       "      <td>NaN</td>\n",
       "      <td>629.99</td>\n",
       "      <td>629.9900</td>\n",
       "      <td>629.990</td>\n",
       "      <td>629.9900</td>\n",
       "      <td>629.99</td>\n",
       "    </tr>\n",
       "    <tr>\n",
       "      <th>StaedtlerL</th>\n",
       "      <td>1.0</td>\n",
       "      <td>12.570000</td>\n",
       "      <td>NaN</td>\n",
       "      <td>12.57</td>\n",
       "      <td>12.5700</td>\n",
       "      <td>12.570</td>\n",
       "      <td>12.5700</td>\n",
       "      <td>12.57</td>\n",
       "    </tr>\n",
       "    <tr>\n",
       "      <th>SquiresC</th>\n",
       "      <td>1.0</td>\n",
       "      <td>206.280000</td>\n",
       "      <td>NaN</td>\n",
       "      <td>206.28</td>\n",
       "      <td>206.2800</td>\n",
       "      <td>206.280</td>\n",
       "      <td>206.2800</td>\n",
       "      <td>206.28</td>\n",
       "    </tr>\n",
       "    <tr>\n",
       "      <th>SpeightY</th>\n",
       "      <td>1.0</td>\n",
       "      <td>-38.900000</td>\n",
       "      <td>NaN</td>\n",
       "      <td>-38.90</td>\n",
       "      <td>-38.9000</td>\n",
       "      <td>-38.900</td>\n",
       "      <td>-38.9000</td>\n",
       "      <td>-38.90</td>\n",
       "    </tr>\n",
       "    <tr>\n",
       "      <th>ChristensonA</th>\n",
       "      <td>1.0</td>\n",
       "      <td>47.940000</td>\n",
       "      <td>NaN</td>\n",
       "      <td>47.94</td>\n",
       "      <td>47.9400</td>\n",
       "      <td>47.940</td>\n",
       "      <td>47.9400</td>\n",
       "      <td>47.94</td>\n",
       "    </tr>\n",
       "    <tr>\n",
       "      <th>SindelarT</th>\n",
       "      <td>1.0</td>\n",
       "      <td>119.160000</td>\n",
       "      <td>NaN</td>\n",
       "      <td>119.16</td>\n",
       "      <td>119.1600</td>\n",
       "      <td>119.160</td>\n",
       "      <td>119.1600</td>\n",
       "      <td>119.16</td>\n",
       "    </tr>\n",
       "    <tr>\n",
       "      <th>SimonB</th>\n",
       "      <td>1.0</td>\n",
       "      <td>4455.000000</td>\n",
       "      <td>NaN</td>\n",
       "      <td>4455.00</td>\n",
       "      <td>4455.0000</td>\n",
       "      <td>4455.000</td>\n",
       "      <td>4455.0000</td>\n",
       "      <td>4455.00</td>\n",
       "    </tr>\n",
       "    <tr>\n",
       "      <th>CookB</th>\n",
       "      <td>1.0</td>\n",
       "      <td>27.840000</td>\n",
       "      <td>NaN</td>\n",
       "      <td>27.84</td>\n",
       "      <td>27.8400</td>\n",
       "      <td>27.840</td>\n",
       "      <td>27.8400</td>\n",
       "      <td>27.84</td>\n",
       "    </tr>\n",
       "    <tr>\n",
       "      <th>ShellC</th>\n",
       "      <td>1.0</td>\n",
       "      <td>750.000000</td>\n",
       "      <td>NaN</td>\n",
       "      <td>750.00</td>\n",
       "      <td>750.0000</td>\n",
       "      <td>750.000</td>\n",
       "      <td>750.0000</td>\n",
       "      <td>750.00</td>\n",
       "    </tr>\n",
       "    <tr>\n",
       "      <th>CordryA</th>\n",
       "      <td>1.0</td>\n",
       "      <td>1268.100000</td>\n",
       "      <td>NaN</td>\n",
       "      <td>1268.10</td>\n",
       "      <td>1268.1000</td>\n",
       "      <td>1268.100</td>\n",
       "      <td>1268.1000</td>\n",
       "      <td>1268.10</td>\n",
       "    </tr>\n",
       "    <tr>\n",
       "      <th>SharmaA</th>\n",
       "      <td>1.0</td>\n",
       "      <td>1800.000000</td>\n",
       "      <td>NaN</td>\n",
       "      <td>1800.00</td>\n",
       "      <td>1800.0000</td>\n",
       "      <td>1800.000</td>\n",
       "      <td>1800.0000</td>\n",
       "      <td>1800.00</td>\n",
       "    </tr>\n",
       "    <tr>\n",
       "      <th>CovingtonP</th>\n",
       "      <td>1.0</td>\n",
       "      <td>1029.000000</td>\n",
       "      <td>NaN</td>\n",
       "      <td>1029.00</td>\n",
       "      <td>1029.0000</td>\n",
       "      <td>1029.000</td>\n",
       "      <td>1029.0000</td>\n",
       "      <td>1029.00</td>\n",
       "    </tr>\n",
       "    <tr>\n",
       "      <th>CramerC</th>\n",
       "      <td>1.0</td>\n",
       "      <td>836.940000</td>\n",
       "      <td>NaN</td>\n",
       "      <td>836.94</td>\n",
       "      <td>836.9400</td>\n",
       "      <td>836.940</td>\n",
       "      <td>836.9400</td>\n",
       "      <td>836.94</td>\n",
       "    </tr>\n",
       "    <tr>\n",
       "      <th>SchooleyD</th>\n",
       "      <td>1.0</td>\n",
       "      <td>104.210000</td>\n",
       "      <td>NaN</td>\n",
       "      <td>104.21</td>\n",
       "      <td>104.2100</td>\n",
       "      <td>104.210</td>\n",
       "      <td>104.2100</td>\n",
       "      <td>104.21</td>\n",
       "    </tr>\n",
       "    <tr>\n",
       "      <th>SaulsD</th>\n",
       "      <td>1.0</td>\n",
       "      <td>99.940000</td>\n",
       "      <td>NaN</td>\n",
       "      <td>99.94</td>\n",
       "      <td>99.9400</td>\n",
       "      <td>99.940</td>\n",
       "      <td>99.9400</td>\n",
       "      <td>99.94</td>\n",
       "    </tr>\n",
       "    <tr>\n",
       "      <th>CunninghamK</th>\n",
       "      <td>1.0</td>\n",
       "      <td>49.990000</td>\n",
       "      <td>NaN</td>\n",
       "      <td>49.99</td>\n",
       "      <td>49.9900</td>\n",
       "      <td>49.990</td>\n",
       "      <td>49.9900</td>\n",
       "      <td>49.99</td>\n",
       "    </tr>\n",
       "    <tr>\n",
       "      <th>150001</th>\n",
       "      <td>1.0</td>\n",
       "      <td>4626.460000</td>\n",
       "      <td>NaN</td>\n",
       "      <td>4626.46</td>\n",
       "      <td>4626.4600</td>\n",
       "      <td>4626.460</td>\n",
       "      <td>4626.4600</td>\n",
       "      <td>4626.46</td>\n",
       "    </tr>\n",
       "  </tbody>\n",
       "</table>\n",
       "<p>5213 rows × 8 columns</p>\n",
       "</div>"
      ],
      "text/plain": [
       "                             count          mean           std       min  \\\n",
       "Last First                                                                 \n",
       "JOURNEY HOUSE TRAVEL INCG  10137.0    289.078843    533.340907  -3136.06   \n",
       "UNIVERSITY AMERICANG        7219.0    340.917249    870.966472  -3708.03   \n",
       "JOURNEY HOUSE TRAVELG       4693.0    242.139874    412.521063  -1865.10   \n",
       "HeuselJ                     4212.0    304.056930    513.145126  -2676.60   \n",
       "HinesG                      3309.0    506.707579    817.430387  -1774.30   \n",
       "BowersR                     2448.0    168.346887    317.481730   -810.00   \n",
       "TornakianM                  2267.0    576.290591    873.509912  -1971.88   \n",
       "MCDOWELLK                   2112.0    272.215592    428.060450   -895.37   \n",
       "HANNAHA                     1961.0    132.561295    176.504113   -875.04   \n",
       "StroupP                     1939.0    691.515833    898.022919  -2125.00   \n",
       "HENDONS                     1722.0    613.061225   2290.708303  -4295.63   \n",
       "CARDHOLDERF                 1673.0     48.113311    102.774605    -73.15   \n",
       "Cardholdere                 1629.0  10961.525862  49986.796658  -9000.00   \n",
       "BENTLEY HEDGES TRAVELG      1543.0    291.920940    638.099751  -1911.33   \n",
       "DEVERJ                      1476.0    367.159621    678.063306  -1170.70   \n",
       "TOTAL TRAVEL OF TULSAG      1414.0    231.759682    307.679830   -757.60   \n",
       "DEMPSEYP                    1313.0     16.624501     16.321916    -20.90   \n",
       "HARJOA                      1220.0    352.929041    484.644524   -566.10   \n",
       "TurnerD                     1208.0    266.756043    392.513629  -4125.00   \n",
       "GomezK                      1192.0    574.642727   2379.332260 -18899.00   \n",
       "DevineL                     1164.0    436.606967    792.583050  -1159.15   \n",
       "DavisG                      1124.0    489.404448    804.196851  -3128.85   \n",
       "WillisR                     1119.0    238.910599    332.932041  -1290.43   \n",
       "BatenhorstA                 1089.0    108.058843    421.297118   -222.99   \n",
       "RobinsonC                   1064.0    575.947058   1867.731262   -630.60   \n",
       "PanickerM                   1026.0    346.700702    657.565242   -935.34   \n",
       "LewisG                      1001.0   1241.923087   4731.826828 -34108.00   \n",
       "McKeeS                       933.0    646.853290   1132.218895  -3152.50   \n",
       "LoftonL                      933.0    262.798242    419.836097  -3201.50   \n",
       "SAUSINSL                     917.0   1089.986009   1413.726302  -2514.98   \n",
       "...                            ...           ...           ...       ...   \n",
       "RubensteinD                    1.0    121.890000           NaN    121.89   \n",
       "RoseK                          1.0    139.110000           NaN    139.11   \n",
       "KroppB                         1.0    684.080000           NaN    684.08   \n",
       "KithakyeS                      1.0    201.000000           NaN    201.00   \n",
       "DuganC                         1.0      8.270000           NaN      8.27   \n",
       "DunlopL                        1.0     75.990000           NaN     75.99   \n",
       "DupreeJ                        1.0     39.990000           NaN     39.99   \n",
       "EDDINGSA                       1.0     12.740000           NaN     12.74   \n",
       "RitterB                        1.0     83.000000           NaN     83.00   \n",
       "EPPLERC                        1.0     15.950000           NaN     15.95   \n",
       "Davila De El RassiG            1.0   1300.000000           NaN   1300.00   \n",
       "SHOCKLEYS                      1.0    -30.990000           NaN    -30.99   \n",
       "DYEL                           1.0   1204.000000           NaN   1204.00   \n",
       "STRASBAUGHC                    1.0    629.990000           NaN    629.99   \n",
       "StaedtlerL                     1.0     12.570000           NaN     12.57   \n",
       "SquiresC                       1.0    206.280000           NaN    206.28   \n",
       "SpeightY                       1.0    -38.900000           NaN    -38.90   \n",
       "ChristensonA                   1.0     47.940000           NaN     47.94   \n",
       "SindelarT                      1.0    119.160000           NaN    119.16   \n",
       "SimonB                         1.0   4455.000000           NaN   4455.00   \n",
       "CookB                          1.0     27.840000           NaN     27.84   \n",
       "ShellC                         1.0    750.000000           NaN    750.00   \n",
       "CordryA                        1.0   1268.100000           NaN   1268.10   \n",
       "SharmaA                        1.0   1800.000000           NaN   1800.00   \n",
       "CovingtonP                     1.0   1029.000000           NaN   1029.00   \n",
       "CramerC                        1.0    836.940000           NaN    836.94   \n",
       "SchooleyD                      1.0    104.210000           NaN    104.21   \n",
       "SaulsD                         1.0     99.940000           NaN     99.94   \n",
       "CunninghamK                    1.0     49.990000           NaN     49.99   \n",
       "150001                         1.0   4626.460000           NaN   4626.46   \n",
       "\n",
       "                                 25%       50%        75%         max  \n",
       "Last First                                                             \n",
       "JOURNEY HOUSE TRAVEL INCG    20.0000   177.800   484.0000    16474.00  \n",
       "UNIVERSITY AMERICANG         20.0000   244.800   500.0000    34151.60  \n",
       "JOURNEY HOUSE TRAVELG        20.0000    20.000   451.0000     8286.30  \n",
       "HeuselJ                      46.1925   140.035   355.7175     4998.00  \n",
       "HinesG                       62.0000   192.360   566.0200     4999.35  \n",
       "BowersR                      25.9750    70.190   177.8425     3855.60  \n",
       "TornakianM                   85.2450   234.840   647.3950     4979.00  \n",
       "MCDOWELLK                    25.0000   121.800   435.0000     5419.15  \n",
       "HANNAHA                      29.3800    80.460   183.9800     1633.44  \n",
       "StroupP                     121.6200   345.000   911.0000     4999.95  \n",
       "HENDONS                      65.1100   201.630   514.8400    64651.00  \n",
       "CARDHOLDERF                  24.6200    38.000    57.0000     3687.27  \n",
       "Cardholdere                 369.9000  1720.000  6653.3000  1089180.00  \n",
       "BENTLEY HEDGES TRAVELG       29.0000    29.000   463.0500    14856.50  \n",
       "DEVERJ                       37.2125   138.355   395.4950     4981.00  \n",
       "TOTAL TRAVEL OF TULSAG       34.0000    50.000   458.6500     3247.90  \n",
       "DEMPSEYP                     12.1200    13.150    16.4200      370.77  \n",
       "HARJOA                       87.3600   215.290   418.7250     4020.39  \n",
       "TurnerD                      53.4750   147.870   356.0375     3620.51  \n",
       "GomezK                       77.0000   172.860   423.8550    47930.16  \n",
       "DevineL                      43.7200   161.215   442.6075     8236.08  \n",
       "DavisG                       55.3950   183.070   537.3000     4962.60  \n",
       "WillisR                      53.0800   133.440   300.3100     2235.00  \n",
       "BatenhorstA                   9.7600    23.980    62.5300     4970.26  \n",
       "RobinsonC                    94.6175   231.615   557.3550    53523.74  \n",
       "PanickerM                    51.9550   158.965   386.9775    10440.00  \n",
       "LewisG                       38.7000   140.000   599.9800    63500.00  \n",
       "McKeeS                       99.7400   263.000   660.6800    11398.80  \n",
       "LoftonL                      25.0000   112.000   457.6000     4700.09  \n",
       "SAUSINSL                    136.7700   797.630  1416.8500    11772.24  \n",
       "...                              ...       ...        ...         ...  \n",
       "RubensteinD                 121.8900   121.890   121.8900      121.89  \n",
       "RoseK                       139.1100   139.110   139.1100      139.11  \n",
       "KroppB                      684.0800   684.080   684.0800      684.08  \n",
       "KithakyeS                   201.0000   201.000   201.0000      201.00  \n",
       "DuganC                        8.2700     8.270     8.2700        8.27  \n",
       "DunlopL                      75.9900    75.990    75.9900       75.99  \n",
       "DupreeJ                      39.9900    39.990    39.9900       39.99  \n",
       "EDDINGSA                     12.7400    12.740    12.7400       12.74  \n",
       "RitterB                      83.0000    83.000    83.0000       83.00  \n",
       "EPPLERC                      15.9500    15.950    15.9500       15.95  \n",
       "Davila De El RassiG        1300.0000  1300.000  1300.0000     1300.00  \n",
       "SHOCKLEYS                   -30.9900   -30.990   -30.9900      -30.99  \n",
       "DYEL                       1204.0000  1204.000  1204.0000     1204.00  \n",
       "STRASBAUGHC                 629.9900   629.990   629.9900      629.99  \n",
       "StaedtlerL                   12.5700    12.570    12.5700       12.57  \n",
       "SquiresC                    206.2800   206.280   206.2800      206.28  \n",
       "SpeightY                    -38.9000   -38.900   -38.9000      -38.90  \n",
       "ChristensonA                 47.9400    47.940    47.9400       47.94  \n",
       "SindelarT                   119.1600   119.160   119.1600      119.16  \n",
       "SimonB                     4455.0000  4455.000  4455.0000     4455.00  \n",
       "CookB                        27.8400    27.840    27.8400       27.84  \n",
       "ShellC                      750.0000   750.000   750.0000      750.00  \n",
       "CordryA                    1268.1000  1268.100  1268.1000     1268.10  \n",
       "SharmaA                    1800.0000  1800.000  1800.0000     1800.00  \n",
       "CovingtonP                 1029.0000  1029.000  1029.0000     1029.00  \n",
       "CramerC                     836.9400   836.940   836.9400      836.94  \n",
       "SchooleyD                   104.2100   104.210   104.2100      104.21  \n",
       "SaulsD                       99.9400    99.940    99.9400       99.94  \n",
       "CunninghamK                  49.9900    49.990    49.9900       49.99  \n",
       "150001                     4626.4600  4626.460  4626.4600     4626.46  \n",
       "\n",
       "[5213 rows x 8 columns]"
      ]
     },
     "execution_count": 9,
     "metadata": {},
     "output_type": "execute_result"
    }
   ],
   "source": [
    "# look at the number of transaction by unique Last First\n",
    "transactionnum = data.groupby(\"Last First\").describe()[\"Amount\"]\n",
    "transactionnum.sort_values(by='count', ascending=False)"
   ]
  },
  {
   "cell_type": "markdown",
   "metadata": {},
   "source": [
    "Comments: There are users that that use the card very frequently. For example, Journey House Travel Incg has 10137 transactions. There are users that have only used their cards once."
   ]
  },
  {
   "cell_type": "code",
   "execution_count": 10,
   "metadata": {
    "collapsed": true
   },
   "outputs": [],
   "source": [
    "l = []\n",
    "for i in range(0, 10000, 1000):\n",
    "    l.append(i)"
   ]
  },
  {
   "cell_type": "code",
   "execution_count": 11,
   "metadata": {
    "scrolled": true
   },
   "outputs": [
    {
     "data": {
      "image/png": "[encoded data removed]",
      "text/plain": [
       "<matplotlib.figure.Figure at 0x110163c88>"
      ]
     },
     "metadata": {},
     "output_type": "display_data"
    }
   ],
   "source": [
    "# show the distribution of the number of creditcard transaction groupby a unique identifer\n",
    "g = sns.distplot(transactionnum['count'], bins=6, )\n",
    "g.set_xticks(l)\n",
    "plt.show()"
   ]
  },
  {
   "cell_type": "markdown",
   "metadata": {},
   "source": [
    "Comments: Most cardholders use their card around 100-300 times. "
   ]
  },
  {
   "cell_type": "code",
   "execution_count": 12,
   "metadata": {
    "scrolled": false
   },
   "outputs": [
    {
     "name": "stdout",
     "output_type": "stream",
     "text": [
      "count                  442458\n",
      "unique                    392\n",
      "top       2013-09-11 00:00:00\n",
      "freq                     2122\n",
      "first     2013-04-17 00:00:00\n",
      "last      2014-06-30 00:00:00\n",
      "Name: Transaction Date, dtype: object\n",
      "count                  442458\n",
      "unique                    258\n",
      "top       2014-01-13 00:00:00\n",
      "freq                     3256\n",
      "first     2013-07-01 00:00:00\n",
      "last      2014-06-30 00:00:00\n",
      "Name: Posted Date, dtype: object\n"
     ]
    }
   ],
   "source": [
    "# see the range of the Transaction Date and Posted Date\n",
    "print(data['Transaction Date'].describe())\n",
    "print(data['Posted Date'].describe())"
   ]
  },
  {
   "cell_type": "code",
   "execution_count": 13,
   "metadata": {
    "scrolled": true
   },
   "outputs": [
    {
     "data": {
      "text/plain": [
       "True"
      ]
     },
     "execution_count": 13,
     "metadata": {},
     "output_type": "execute_result"
    }
   ],
   "source": [
    "# see if the transformed dataset has the same number of unique identifiers\n",
    "transactionnum.reset_index(inplace=True)\n",
    "transactionnum.nunique()['Last First'] == data.nunique()['Last First']"
   ]
  },
  {
   "cell_type": "markdown",
   "metadata": {},
   "source": [
    "# Feature Engineering  <a class='anchor' id='second-bullet'><a>"
   ]
  },
  {
   "cell_type": "markdown",
   "metadata": {},
   "source": [
    "# F1: 2 standard deviation from mean Amount by Merchant Category Code"
   ]
  },
  {
   "cell_type": "code",
   "execution_count": 14,
   "metadata": {},
   "outputs": [
    {
     "data": {
      "text/html": [
       "<div>\n",
       "<style>\n",
       "    .dataframe thead tr:only-child th {\n",
       "        text-align: right;\n",
       "    }\n",
       "\n",
       "    .dataframe thead th {\n",
       "        text-align: left;\n",
       "    }\n",
       "\n",
       "    .dataframe tbody tr th {\n",
       "        vertical-align: top;\n",
       "    }\n",
       "</style>\n",
       "<table border=\"1\" class=\"dataframe\">\n",
       "  <thead>\n",
       "    <tr style=\"text-align: right;\">\n",
       "      <th></th>\n",
       "      <th>Merchant Category Code (MCC)</th>\n",
       "      <th>count</th>\n",
       "      <th>mean</th>\n",
       "      <th>std</th>\n",
       "      <th>min</th>\n",
       "      <th>25%</th>\n",
       "      <th>50%</th>\n",
       "      <th>75%</th>\n",
       "      <th>max</th>\n",
       "    </tr>\n",
       "  </thead>\n",
       "  <tbody>\n",
       "    <tr>\n",
       "      <th>0</th>\n",
       "      <td></td>\n",
       "      <td>3.0</td>\n",
       "      <td>294.360000</td>\n",
       "      <td>98.432447</td>\n",
       "      <td>180.70</td>\n",
       "      <td>265.9450</td>\n",
       "      <td>351.190</td>\n",
       "      <td>351.1900</td>\n",
       "      <td>351.19</td>\n",
       "    </tr>\n",
       "    <tr>\n",
       "      <th>1</th>\n",
       "      <td>ACCOUNTING,AUDITING AND BOOKKEEPING SERVICES</td>\n",
       "      <td>94.0</td>\n",
       "      <td>833.617128</td>\n",
       "      <td>1373.092695</td>\n",
       "      <td>-585.24</td>\n",
       "      <td>121.1275</td>\n",
       "      <td>335.000</td>\n",
       "      <td>712.5300</td>\n",
       "      <td>6880.50</td>\n",
       "    </tr>\n",
       "    <tr>\n",
       "      <th>2</th>\n",
       "      <td>ADVANTAGE RENT A CAR</td>\n",
       "      <td>2.0</td>\n",
       "      <td>292.915000</td>\n",
       "      <td>697.087078</td>\n",
       "      <td>-200.00</td>\n",
       "      <td>46.4575</td>\n",
       "      <td>292.915</td>\n",
       "      <td>539.3725</td>\n",
       "      <td>785.83</td>\n",
       "    </tr>\n",
       "  </tbody>\n",
       "</table>\n",
       "</div>"
      ],
      "text/plain": [
       "                   Merchant Category Code (MCC)  count        mean  \\\n",
       "0                                                  3.0  294.360000   \n",
       "1  ACCOUNTING,AUDITING AND BOOKKEEPING SERVICES   94.0  833.617128   \n",
       "2                          ADVANTAGE RENT A CAR    2.0  292.915000   \n",
       "\n",
       "           std     min       25%      50%       75%      max  \n",
       "0    98.432447  180.70  265.9450  351.190  351.1900   351.19  \n",
       "1  1373.092695 -585.24  121.1275  335.000  712.5300  6880.50  \n",
       "2   697.087078 -200.00   46.4575  292.915  539.3725   785.83  "
      ]
     },
     "execution_count": 14,
     "metadata": {},
     "output_type": "execute_result"
    }
   ],
   "source": [
    "# Group by MCC, slice by Amount\n",
    "f1 = data.groupby('Merchant Category Code (MCC)').describe()['Amount']\n",
    "f1.reset_index(inplace=True)\n",
    "f1.head(3)"
   ]
  },
  {
   "cell_type": "code",
   "execution_count": 15,
   "metadata": {
    "scrolled": true
   },
   "outputs": [
    {
     "data": {
      "text/html": [
       "<div>\n",
       "<style>\n",
       "    .dataframe thead tr:only-child th {\n",
       "        text-align: right;\n",
       "    }\n",
       "\n",
       "    .dataframe thead th {\n",
       "        text-align: left;\n",
       "    }\n",
       "\n",
       "    .dataframe tbody tr th {\n",
       "        vertical-align: top;\n",
       "    }\n",
       "</style>\n",
       "<table border=\"1\" class=\"dataframe\">\n",
       "  <thead>\n",
       "    <tr style=\"text-align: right;\">\n",
       "      <th></th>\n",
       "      <th>Merchant Category Code (MCC)</th>\n",
       "      <th>count</th>\n",
       "      <th>mean</th>\n",
       "      <th>std</th>\n",
       "      <th>min</th>\n",
       "      <th>25%</th>\n",
       "      <th>50%</th>\n",
       "      <th>75%</th>\n",
       "      <th>max</th>\n",
       "    </tr>\n",
       "  </thead>\n",
       "  <tbody>\n",
       "    <tr>\n",
       "      <th>0</th>\n",
       "      <td></td>\n",
       "      <td>3.0</td>\n",
       "      <td>294.36</td>\n",
       "      <td>98.432447</td>\n",
       "      <td>180.7</td>\n",
       "      <td>265.945</td>\n",
       "      <td>351.19</td>\n",
       "      <td>351.19</td>\n",
       "      <td>351.19</td>\n",
       "    </tr>\n",
       "  </tbody>\n",
       "</table>\n",
       "</div>"
      ],
      "text/plain": [
       "  Merchant Category Code (MCC)  count    mean        std    min      25%  \\\n",
       "0                                 3.0  294.36  98.432447  180.7  265.945   \n",
       "\n",
       "      50%     75%     max  \n",
       "0  351.19  351.19  351.19  "
      ]
     },
     "execution_count": 15,
     "metadata": {},
     "output_type": "execute_result"
    }
   ],
   "source": [
    "# see if there's empty MCC\n",
    "f1[f1['Merchant Category Code (MCC)'] == ' ']"
   ]
  },
  {
   "cell_type": "code",
   "execution_count": 16,
   "metadata": {},
   "outputs": [
    {
     "data": {
      "text/html": [
       "<div>\n",
       "<style>\n",
       "    .dataframe thead tr:only-child th {\n",
       "        text-align: right;\n",
       "    }\n",
       "\n",
       "    .dataframe thead th {\n",
       "        text-align: left;\n",
       "    }\n",
       "\n",
       "    .dataframe tbody tr th {\n",
       "        vertical-align: top;\n",
       "    }\n",
       "</style>\n",
       "<table border=\"1\" class=\"dataframe\">\n",
       "  <thead>\n",
       "    <tr style=\"text-align: right;\">\n",
       "      <th></th>\n",
       "      <th>Last First</th>\n",
       "      <th>Year-Month</th>\n",
       "      <th>Agency Number</th>\n",
       "      <th>Agency Name</th>\n",
       "      <th>Cardholder Last Name</th>\n",
       "      <th>Cardholder First Initial</th>\n",
       "      <th>Description</th>\n",
       "      <th>Amount</th>\n",
       "      <th>Vendor</th>\n",
       "      <th>Transaction Date</th>\n",
       "      <th>Posted Date</th>\n",
       "      <th>Merchant Category Code (MCC)</th>\n",
       "    </tr>\n",
       "  </thead>\n",
       "  <tbody>\n",
       "    <tr>\n",
       "      <th>94065</th>\n",
       "      <td>BeckerE</td>\n",
       "      <td>201311</td>\n",
       "      <td>18500</td>\n",
       "      <td>CORPORATION COMMISSION</td>\n",
       "      <td>Becker</td>\n",
       "      <td>E</td>\n",
       "      <td>ROOM CHARGES</td>\n",
       "      <td>351.19</td>\n",
       "      <td>THE ROOSEVELT HOTEL</td>\n",
       "      <td>2013-11-08</td>\n",
       "      <td>2013-11-11</td>\n",
       "      <td></td>\n",
       "    </tr>\n",
       "    <tr>\n",
       "      <th>94071</th>\n",
       "      <td>BeckerE</td>\n",
       "      <td>201311</td>\n",
       "      <td>18500</td>\n",
       "      <td>CORPORATION COMMISSION</td>\n",
       "      <td>Becker</td>\n",
       "      <td>E</td>\n",
       "      <td>ROOM CHARGES</td>\n",
       "      <td>351.19</td>\n",
       "      <td>THE ROOSEVELT HOTEL</td>\n",
       "      <td>2013-11-08</td>\n",
       "      <td>2013-11-11</td>\n",
       "      <td></td>\n",
       "    </tr>\n",
       "    <tr>\n",
       "      <th>132174</th>\n",
       "      <td>LastingerS</td>\n",
       "      <td>201310</td>\n",
       "      <td>53100</td>\n",
       "      <td>ROSE STATE COLEGE</td>\n",
       "      <td>Lastinger</td>\n",
       "      <td>S</td>\n",
       "      <td>ROOM CHARGES</td>\n",
       "      <td>1042.92</td>\n",
       "      <td>THE ROOSEVELT HOTEL</td>\n",
       "      <td>2013-10-04</td>\n",
       "      <td>2013-10-07</td>\n",
       "      <td>LODGING--HOTELS,MOTELS,AND RESORTS</td>\n",
       "    </tr>\n",
       "    <tr>\n",
       "      <th>184514</th>\n",
       "      <td>UNIVERSITY AMERICANG</td>\n",
       "      <td>201310</td>\n",
       "      <td>76000</td>\n",
       "      <td>UNIVERSITY OF OKLAHOMA</td>\n",
       "      <td>UNIVERSITY AMERICAN</td>\n",
       "      <td>G</td>\n",
       "      <td>AIR TRAVEL</td>\n",
       "      <td>180.70</td>\n",
       "      <td>UNIVERSITY A4657310420929</td>\n",
       "      <td>2013-10-10</td>\n",
       "      <td>2013-10-14</td>\n",
       "      <td></td>\n",
       "    </tr>\n",
       "  </tbody>\n",
       "</table>\n",
       "</div>"
      ],
      "text/plain": [
       "                  Last First  Year-Month  Agency Number  \\\n",
       "94065                BeckerE      201311          18500   \n",
       "94071                BeckerE      201311          18500   \n",
       "132174            LastingerS      201310          53100   \n",
       "184514  UNIVERSITY AMERICANG      201310          76000   \n",
       "\n",
       "                   Agency Name Cardholder Last Name Cardholder First Initial  \\\n",
       "94065   CORPORATION COMMISSION               Becker                        E   \n",
       "94071   CORPORATION COMMISSION               Becker                        E   \n",
       "132174       ROSE STATE COLEGE            Lastinger                        S   \n",
       "184514  UNIVERSITY OF OKLAHOMA  UNIVERSITY AMERICAN                        G   \n",
       "\n",
       "         Description   Amount                     Vendor Transaction Date  \\\n",
       "94065   ROOM CHARGES   351.19        THE ROOSEVELT HOTEL       2013-11-08   \n",
       "94071   ROOM CHARGES   351.19        THE ROOSEVELT HOTEL       2013-11-08   \n",
       "132174  ROOM CHARGES  1042.92        THE ROOSEVELT HOTEL       2013-10-04   \n",
       "184514    AIR TRAVEL   180.70  UNIVERSITY A4657310420929       2013-10-10   \n",
       "\n",
       "       Posted Date        Merchant Category Code (MCC)  \n",
       "94065   2013-11-11                                      \n",
       "94071   2013-11-11                                      \n",
       "132174  2013-10-07  LODGING--HOTELS,MOTELS,AND RESORTS  \n",
       "184514  2013-10-14                                      "
      ]
     },
     "execution_count": 16,
     "metadata": {},
     "output_type": "execute_result"
    }
   ],
   "source": [
    "# see the information for empty MCC cells\n",
    "a = data[data.Vendor == 'THE ROOSEVELT HOTEL']\n",
    "b = data[data.Vendor == 'UNIVERSITY A4657310420929']\n",
    "c = pd.concat([a, b])\n",
    "c"
   ]
  },
  {
   "cell_type": "code",
   "execution_count": 17,
   "metadata": {
    "scrolled": false
   },
   "outputs": [
    {
     "data": {
      "text/plain": [
       "94065      \n",
       "94071      \n",
       "184514     \n",
       "Name: Merchant Category Code (MCC), dtype: object"
      ]
     },
     "execution_count": 17,
     "metadata": {},
     "output_type": "execute_result"
    }
   ],
   "source": [
    "# return the index where the MCC is empty\n",
    "data['Merchant Category Code (MCC)'][data['Merchant Category Code (MCC)'] == \" \"] "
   ]
  },
  {
   "cell_type": "code",
   "execution_count": 18,
   "metadata": {
    "scrolled": false
   },
   "outputs": [
    {
     "name": "stderr",
     "output_type": "stream",
     "text": [
      "/Users/liangshiting/anaconda3/lib/python3.6/site-packages/ipykernel_launcher.py:2: SettingWithCopyWarning: \n",
      "A value is trying to be set on a copy of a slice from a DataFrame\n",
      "\n",
      "See the caveats in the documentation: http://pandas.pydata.org/pandas-docs/stable/indexing.html#indexing-view-versus-copy\n",
      "  \n",
      "/Users/liangshiting/anaconda3/lib/python3.6/site-packages/ipykernel_launcher.py:3: SettingWithCopyWarning: \n",
      "A value is trying to be set on a copy of a slice from a DataFrame\n",
      "\n",
      "See the caveats in the documentation: http://pandas.pydata.org/pandas-docs/stable/indexing.html#indexing-view-versus-copy\n",
      "  This is separate from the ipykernel package so we can avoid doing imports until\n",
      "/Users/liangshiting/anaconda3/lib/python3.6/site-packages/ipykernel_launcher.py:4: SettingWithCopyWarning: \n",
      "A value is trying to be set on a copy of a slice from a DataFrame\n",
      "\n",
      "See the caveats in the documentation: http://pandas.pydata.org/pandas-docs/stable/indexing.html#indexing-view-versus-copy\n",
      "  after removing the cwd from sys.path.\n"
     ]
    }
   ],
   "source": [
    "# impute the empty cells with respective MCC string\n",
    "data['Merchant Category Code (MCC)'][94065] = 'LODGING--HOTELS,MOTELS,AND RESORTS'\n",
    "data['Merchant Category Code (MCC)'][94071] = 'LODGING--HOTELS,MOTELS,AND RESORTS'\n",
    "data['Merchant Category Code (MCC)'][184514] = 'UNIVERSITY A4657310420929'"
   ]
  },
  {
   "cell_type": "code",
   "execution_count": 19,
   "metadata": {
    "scrolled": false
   },
   "outputs": [
    {
     "ename": "TypeError",
     "evalue": "drop() got an unexpected keyword argument 'columns'",
     "output_type": "error",
     "traceback": [
      "\u001b[0;31m---------------------------------------------------------------------------\u001b[0m",
      "\u001b[0;31mTypeError\u001b[0m                                 Traceback (most recent call last)",
      "\u001b[0;32m<ipython-input-19-575fde7c73be>\u001b[0m in \u001b[0;36m<module>\u001b[0;34m()\u001b[0m\n\u001b[1;32m      3\u001b[0m \u001b[0mf1\u001b[0m\u001b[0;34m.\u001b[0m\u001b[0mreset_index\u001b[0m\u001b[0;34m(\u001b[0m\u001b[0minplace\u001b[0m\u001b[0;34m=\u001b[0m\u001b[0;32mTrue\u001b[0m\u001b[0;34m)\u001b[0m\u001b[0;34m\u001b[0m\u001b[0m\n\u001b[1;32m      4\u001b[0m f1.drop(columns=['count', 'min', '25%',\n\u001b[0;32m----> 5\u001b[0;31m        '50%', '75%', 'max'], inplace=True)\n\u001b[0m\u001b[1;32m      6\u001b[0m \u001b[0mf1\u001b[0m\u001b[0;34m.\u001b[0m\u001b[0mrename\u001b[0m\u001b[0;34m(\u001b[0m\u001b[0mcolumns\u001b[0m\u001b[0;34m=\u001b[0m\u001b[0;34m{\u001b[0m\u001b[0;34m'mean'\u001b[0m\u001b[0;34m:\u001b[0m\u001b[0;34m'MCC Mean'\u001b[0m\u001b[0;34m,\u001b[0m  \u001b[0;34m'std'\u001b[0m\u001b[0;34m:\u001b[0m\u001b[0;34m'MCC STD'\u001b[0m\u001b[0;34m}\u001b[0m\u001b[0;34m,\u001b[0m \u001b[0minplace\u001b[0m\u001b[0;34m=\u001b[0m\u001b[0;32mTrue\u001b[0m\u001b[0;34m)\u001b[0m\u001b[0;34m\u001b[0m\u001b[0m\n\u001b[1;32m      7\u001b[0m \u001b[0mf1\u001b[0m\u001b[0;34m.\u001b[0m\u001b[0mhead\u001b[0m\u001b[0;34m(\u001b[0m\u001b[0;34m)\u001b[0m\u001b[0;34m\u001b[0m\u001b[0m\n",
      "\u001b[0;31mTypeError\u001b[0m: drop() got an unexpected keyword argument 'columns'"
     ]
    }
   ],
   "source": [
    "# prepare the \"mean Amount by MCC\" chart \n",
    "f1 = data.groupby('Merchant Category Code (MCC)').describe()['Amount']\n",
    "f1.reset_index(inplace=True)\n",
    "f1.drop(columns=['count', 'min', '25%',\n",
    "       '50%', '75%', 'max'], inplace=True)\n",
    "f1.rename(columns={'mean':'MCC Mean',  'std':'MCC STD'}, inplace=True)\n",
    "f1.head()"
   ]
  },
  {
   "cell_type": "code",
   "execution_count": null,
   "metadata": {
    "collapsed": true
   },
   "outputs": [],
   "source": [
    "# join the mean Aount by MCC to the big dataset\n",
    "data = pd.merge(data, f1, on='Merchant Category Code (MCC)')"
   ]
  },
  {
   "cell_type": "code",
   "execution_count": null,
   "metadata": {},
   "outputs": [],
   "source": [
    "data['MCC Mean Ratio'] = (data['Amount'] - data['MCC Mean']) / data['MCC Mean'] \n",
    "data.head(3)"
   ]
  },
  {
   "cell_type": "code",
   "execution_count": null,
   "metadata": {
    "scrolled": false
   },
   "outputs": [],
   "source": [
    "# for those standard deviation equals to 0 , impute with 0\n",
    "data['MCC STD'].fillna(value=0)\n",
    "data.head(2)"
   ]
  },
  {
   "cell_type": "code",
   "execution_count": null,
   "metadata": {
    "collapsed": true
   },
   "outputs": [],
   "source": [
    "# define the confidence interval\n",
    "def confint(mean, std, data):\n",
    "    hi = mean + 1.96*std\n",
    "    lo = mean - 1.96*std\n",
    "    if data > hi:\n",
    "        return 1\n",
    "    elif data < lo:\n",
    "        return 1\n",
    "    else:\n",
    "        return 0"
   ]
  },
  {
   "cell_type": "code",
   "execution_count": null,
   "metadata": {
    "collapsed": true
   },
   "outputs": [],
   "source": [
    "# run apply the function to every row\n",
    "data['MCC STD Outlier'] = data.apply(lambda x:\n",
    "                                    confint(x['MCC Mean'], x['MCC STD'], x['Amount']), axis=1)"
   ]
  },
  {
   "cell_type": "code",
   "execution_count": null,
   "metadata": {
    "scrolled": true
   },
   "outputs": [],
   "source": [
    "data.head(3)"
   ]
  },
  {
   "cell_type": "markdown",
   "metadata": {},
   "source": [
    "Comment: MCC Mean Ratio cannot be used becuase there was NaN and inf values"
   ]
  },
  {
   "cell_type": "markdown",
   "metadata": {},
   "source": [
    "# F2 Encode duplicate transaction with 1, else 0"
   ]
  },
  {
   "cell_type": "code",
   "execution_count": null,
   "metadata": {},
   "outputs": [],
   "source": [
    "# find the ratio of duplicate value\n",
    "data.duplicated(keep=False).sum()/data.shape[0]"
   ]
  },
  {
   "cell_type": "code",
   "execution_count": null,
   "metadata": {
    "scrolled": true
   },
   "outputs": [],
   "source": [
    "# encode duplicate values\n",
    "data['Duplicate'] = data.duplicated(keep=False)\n",
    "data.Duplicate = data.Duplicate.astype('int')\n",
    "data.head(3)"
   ]
  },
  {
   "cell_type": "markdown",
   "metadata": {},
   "source": [
    "# F3 Calculate the number of days between \"Transaction Date\" and \"Posted Date\""
   ]
  },
  {
   "cell_type": "code",
   "execution_count": null,
   "metadata": {
    "scrolled": true
   },
   "outputs": [],
   "source": [
    "# run a for-loop to only inpute the integer value for days between Posted and Transaction Date\n",
    "l = []\n",
    "for i in range(len(data['Posted Date'])):\n",
    "    a = data['Posted Date'][i]\n",
    "    b = data['Transaction Date'][i]\n",
    "    c = (a - b).days\n",
    "    l.append(c)\n",
    "data['Days'] = l\n",
    "data.head(3)"
   ]
  },
  {
   "cell_type": "code",
   "execution_count": null,
   "metadata": {},
   "outputs": [],
   "source": [
    "data.nunique()"
   ]
  },
  {
   "cell_type": "markdown",
   "metadata": {},
   "source": [
    "# KNN  <a class='anchor' id='third-bullet'><a>"
   ]
  },
  {
   "cell_type": "markdown",
   "metadata": {},
   "source": [
    "KNN standas for the Kth Nearest Neighbor. KNN assume similar things are similar to each other. To calculate the similarity, KNN uses many methodologies, one of which is the Euclidean Distance to calculate the distance. The Kth is determined by the programmer usually. The smaller the K, the higher probability the model overfits, because KNN will cluster data points more granularly. As a result, more number of clusters will appear. Usually, KNN has to be iterated several times to ensure the best number of K. "
   ]
  },
  {
   "cell_type": "markdown",
   "metadata": {},
   "source": [
    "# KNN without groupby <a class='anchor' id='fourth-bullet'><a>"
   ]
  },
  {
   "cell_type": "code",
   "execution_count": null,
   "metadata": {},
   "outputs": [],
   "source": [
    "# run another KNN on the unpartitioned dataset\n",
    "df2 = data.copy()\n",
    "df2.drop(columns=['Last First','Year-Month', 'Agency Number', 'Agency Name',\n",
    "       'Cardholder Last Name', 'Cardholder First Initial', 'Description',\n",
    "       'Vendor', 'Transaction Date', 'Posted Date',\n",
    "       'Merchant Category Code (MCC)','MCC Mean Ratio','MCC STD', 'MCC Mean'], inplace=True)\n",
    "df2.head()"
   ]
  },
  {
   "cell_type": "code",
   "execution_count": null,
   "metadata": {},
   "outputs": [],
   "source": [
    "# scale the df dataframe\n",
    "df3 = df2.copy()\n",
    "scaler = StandardScaler()\n",
    "print(scaler.fit(df3))"
   ]
  },
  {
   "cell_type": "code",
   "execution_count": null,
   "metadata": {
    "collapsed": true
   },
   "outputs": [],
   "source": [
    "# modeling\n",
    "clf_name = 'KNN'\n",
    "clf = KNN()"
   ]
  },
  {
   "cell_type": "code",
   "execution_count": null,
   "metadata": {
    "scrolled": true
   },
   "outputs": [],
   "source": [
    "# fit the data\n",
    "clf.fit(df3)"
   ]
  },
  {
   "cell_type": "code",
   "execution_count": null,
   "metadata": {},
   "outputs": [],
   "source": [
    "# get the anomaly score\n",
    "y_test_scores = clf.decision_scores_\n",
    "y_test_scores"
   ]
  },
  {
   "cell_type": "code",
   "execution_count": null,
   "metadata": {},
   "outputs": [],
   "source": [
    "# predict using the model\n",
    "y_test_pred = clf.predict(df3)\n",
    "y_test_pred"
   ]
  },
  {
   "cell_type": "code",
   "execution_count": 36,
   "metadata": {},
   "outputs": [
    {
     "data": {
      "image/png": "[encoded data removed]",
      "text/plain": [
       "<Figure size 432x288 with 1 Axes>"
      ]
     },
     "metadata": {
      "needs_background": "light"
     },
     "output_type": "display_data"
    }
   ],
   "source": [
    "plt.hist(y_test_scores,bins=100)\n",
    "plt.title('Histogram with Auto Bins')\n",
    "# plt.ylim([0,500])\n",
    "# plt.xlim([0,1e+36])\n",
    "plt.show()"
   ]
  },
  {
   "cell_type": "code",
   "execution_count": 37,
   "metadata": {},
   "outputs": [
    {
     "data": {
      "text/html": [
       "<div>\n",
       "<style scoped>\n",
       "    .dataframe tbody tr th:only-of-type {\n",
       "        vertical-align: middle;\n",
       "    }\n",
       "\n",
       "    .dataframe tbody tr th {\n",
       "        vertical-align: top;\n",
       "    }\n",
       "\n",
       "    .dataframe thead th {\n",
       "        text-align: right;\n",
       "    }\n",
       "</style>\n",
       "<table border=\"1\" class=\"dataframe\">\n",
       "  <thead>\n",
       "    <tr style=\"text-align: right;\">\n",
       "      <th></th>\n",
       "      <th>Amount</th>\n",
       "      <th>MCC STD Outlier</th>\n",
       "      <th>Duplicate</th>\n",
       "      <th>Days</th>\n",
       "      <th>Cluster</th>\n",
       "      <th>Anomaly Score</th>\n",
       "    </tr>\n",
       "  </thead>\n",
       "  <tbody>\n",
       "    <tr>\n",
       "      <th>0</th>\n",
       "      <td>890.0</td>\n",
       "      <td>0</td>\n",
       "      <td>1</td>\n",
       "      <td>1</td>\n",
       "      <td>1</td>\n",
       "      <td>1.0</td>\n",
       "    </tr>\n",
       "    <tr>\n",
       "      <th>1</th>\n",
       "      <td>890.0</td>\n",
       "      <td>0</td>\n",
       "      <td>1</td>\n",
       "      <td>1</td>\n",
       "      <td>1</td>\n",
       "      <td>1.0</td>\n",
       "    </tr>\n",
       "    <tr>\n",
       "      <th>2</th>\n",
       "      <td>250.0</td>\n",
       "      <td>0</td>\n",
       "      <td>0</td>\n",
       "      <td>1</td>\n",
       "      <td>0</td>\n",
       "      <td>0.0</td>\n",
       "    </tr>\n",
       "  </tbody>\n",
       "</table>\n",
       "</div>"
      ],
      "text/plain": [
       "   Amount  MCC STD Outlier  Duplicate  Days  Cluster  Anomaly Score\n",
       "0   890.0                0          1     1        1            1.0\n",
       "1   890.0                0          1     1        1            1.0\n",
       "2   250.0                0          0     1        0            0.0"
      ]
     },
     "execution_count": 37,
     "metadata": {},
     "output_type": "execute_result"
    }
   ],
   "source": [
    "# add the cluster column to the original unscaled dataset\n",
    "df2['Cluster'] = y_test_pred\n",
    "df2['Anomaly Score'] = y_test_scores\n",
    "df2.head(3)"
   ]
  },
  {
   "cell_type": "code",
   "execution_count": 38,
   "metadata": {},
   "outputs": [
    {
     "data": {
      "text/plain": [
       "{0: 403092, 1: 39366}"
      ]
     },
     "execution_count": 38,
     "metadata": {},
     "output_type": "execute_result"
    }
   ],
   "source": [
    "# find the count for each cluster\n",
    "unique, counts = np.unique(y_test_pred, return_counts=True)\n",
    "dict(zip(unique, counts))"
   ]
  },
  {
   "cell_type": "code",
   "execution_count": 39,
   "metadata": {},
   "outputs": [
    {
     "data": {
      "text/html": [
       "<div>\n",
       "<style scoped>\n",
       "    .dataframe tbody tr th:only-of-type {\n",
       "        vertical-align: middle;\n",
       "    }\n",
       "\n",
       "    .dataframe tbody tr th {\n",
       "        vertical-align: top;\n",
       "    }\n",
       "\n",
       "    .dataframe thead th {\n",
       "        text-align: right;\n",
       "    }\n",
       "</style>\n",
       "<table border=\"1\" class=\"dataframe\">\n",
       "  <thead>\n",
       "    <tr style=\"text-align: right;\">\n",
       "      <th></th>\n",
       "      <th>Count</th>\n",
       "      <th>Amount</th>\n",
       "      <th>MCC STD Outlier</th>\n",
       "      <th>Duplicate</th>\n",
       "      <th>Days</th>\n",
       "      <th>Anomaly Score</th>\n",
       "    </tr>\n",
       "    <tr>\n",
       "      <th>Cluster</th>\n",
       "      <th></th>\n",
       "      <th></th>\n",
       "      <th></th>\n",
       "      <th></th>\n",
       "      <th></th>\n",
       "      <th></th>\n",
       "    </tr>\n",
       "  </thead>\n",
       "  <tbody>\n",
       "    <tr>\n",
       "      <th>0</th>\n",
       "      <td>403092</td>\n",
       "      <td>215.693042</td>\n",
       "      <td>0.001672</td>\n",
       "      <td>0.046101</td>\n",
       "      <td>1.773029</td>\n",
       "      <td>0.036091</td>\n",
       "    </tr>\n",
       "    <tr>\n",
       "      <th>1</th>\n",
       "      <td>39366</td>\n",
       "      <td>2568.119780</td>\n",
       "      <td>0.251207</td>\n",
       "      <td>0.109358</td>\n",
       "      <td>2.938627</td>\n",
       "      <td>145.330876</td>\n",
       "    </tr>\n",
       "  </tbody>\n",
       "</table>\n",
       "</div>"
      ],
      "text/plain": [
       "          Count       Amount  MCC STD Outlier  Duplicate      Days  \\\n",
       "Cluster                                                              \n",
       "0        403092   215.693042         0.001672   0.046101  1.773029   \n",
       "1         39366  2568.119780         0.251207   0.109358  2.938627   \n",
       "\n",
       "         Anomaly Score  \n",
       "Cluster                 \n",
       "0             0.036091  \n",
       "1           145.330876  "
      ]
     },
     "execution_count": 39,
     "metadata": {},
     "output_type": "execute_result"
    }
   ],
   "source": [
    "# showcase the results\n",
    "df2 = df2.groupby('Cluster').mean()\n",
    "df2.insert(0, column='Count', value=counts)\n",
    "df2"
   ]
  },
  {
   "cell_type": "markdown",
   "metadata": {},
   "source": [
    "Comments:\n",
    "For the normal cluster, it has 403,092 observations. This is the number of transactions that are classififed as normal transaction. The average spending per transaction in this cluster is '$215'. The mean MCC STD Oulier score is very small, at 0.0016, which means 99.8% of the transactions in this cluster lie within 2 standard deviations with respect to their Merchant Category Code. The duplicate score gives the number of duplicated transaction being categorized in cluster 0. On average, there is 0.046 duplicate transactions in here. Lastly, the average number of days between the \"Transaction date\" and the \"Posted Date\" is 1.77.\n",
    "\n",
    "For Cluster 1, it has 39,366 observations, accounting for 9.8% of the population. It is certainly high, due to inability to create a more granular clustering. The average transaction amount is '$2568'. The average amount of transaction is more than 10 times the amount in Cluster 0. Interestingly, the MCC STD Outlier is also very high, it is 100 times more than that of Cluster 0, meaning the transactions in cluster 1 are frequently outside the 2 standard deviation bounds. Also, the amount of duplicate transactions in cluster 1 is also twice the amount in cluster 0. Lastly, the number of days is 2.9, which is very different from the 1.7 days in cluster 0. \n",
    "\n",
    "Since the KNN model follows a garbage in and garbage out theory, it has done a great job in categorizing two values due to a vastly  different anomaly score in these two clusters. However, with a limited number of numeric columns, there is a limited number of features to be used for modeling. This is one of the fallback of the model as well. "
   ]
  },
  {
   "cell_type": "code",
   "execution_count": 40,
   "metadata": {},
   "outputs": [
    {
     "data": {
      "text/plain": [
       "0.09766008752344378"
      ]
     },
     "execution_count": 40,
     "metadata": {},
     "output_type": "execute_result"
    }
   ],
   "source": [
    "df2['Count'][1]/df2['Count'][0]"
   ]
  },
  {
   "cell_type": "markdown",
   "metadata": {},
   "source": [
    "# KNN after groupby \"Last First\" column  <a class='anchor' id='fifth-bullet'><a>"
   ]
  },
  {
   "cell_type": "code",
   "execution_count": 41,
   "metadata": {},
   "outputs": [
    {
     "data": {
      "text/html": [
       "<div>\n",
       "<style scoped>\n",
       "    .dataframe tbody tr th:only-of-type {\n",
       "        vertical-align: middle;\n",
       "    }\n",
       "\n",
       "    .dataframe tbody tr th {\n",
       "        vertical-align: top;\n",
       "    }\n",
       "\n",
       "    .dataframe thead th {\n",
       "        text-align: right;\n",
       "    }\n",
       "</style>\n",
       "<table border=\"1\" class=\"dataframe\">\n",
       "  <thead>\n",
       "    <tr style=\"text-align: right;\">\n",
       "      <th></th>\n",
       "      <th>Amount</th>\n",
       "      <th>MCC STD Outlier</th>\n",
       "      <th>Duplicate</th>\n",
       "      <th>Days</th>\n",
       "    </tr>\n",
       "    <tr>\n",
       "      <th>Last First</th>\n",
       "      <th></th>\n",
       "      <th></th>\n",
       "      <th></th>\n",
       "      <th></th>\n",
       "    </tr>\n",
       "  </thead>\n",
       "  <tbody>\n",
       "    <tr>\n",
       "      <th>150001</th>\n",
       "      <td>4626.460000</td>\n",
       "      <td>0.0</td>\n",
       "      <td>0.0</td>\n",
       "      <td>28.000000</td>\n",
       "    </tr>\n",
       "    <tr>\n",
       "      <th>241002</th>\n",
       "      <td>278.409000</td>\n",
       "      <td>0.0</td>\n",
       "      <td>0.0</td>\n",
       "      <td>1.100000</td>\n",
       "    </tr>\n",
       "    <tr>\n",
       "      <th>420004</th>\n",
       "      <td>133.998125</td>\n",
       "      <td>0.0</td>\n",
       "      <td>0.0</td>\n",
       "      <td>0.000000</td>\n",
       "    </tr>\n",
       "    <tr>\n",
       "      <th>446004</th>\n",
       "      <td>111.990000</td>\n",
       "      <td>0.0</td>\n",
       "      <td>0.0</td>\n",
       "      <td>1.000000</td>\n",
       "    </tr>\n",
       "    <tr>\n",
       "      <th>480004</th>\n",
       "      <td>96.774615</td>\n",
       "      <td>0.0</td>\n",
       "      <td>0.0</td>\n",
       "      <td>4.307692</td>\n",
       "    </tr>\n",
       "  </tbody>\n",
       "</table>\n",
       "</div>"
      ],
      "text/plain": [
       "                 Amount  MCC STD Outlier  Duplicate       Days\n",
       "Last First                                                    \n",
       "150001      4626.460000              0.0        0.0  28.000000\n",
       "241002       278.409000              0.0        0.0   1.100000\n",
       "420004       133.998125              0.0        0.0   0.000000\n",
       "446004       111.990000              0.0        0.0   1.000000\n",
       "480004        96.774615              0.0        0.0   4.307692"
      ]
     },
     "execution_count": 41,
     "metadata": {},
     "output_type": "execute_result"
    }
   ],
   "source": [
    "ppldata = data.groupby('Last First').mean().copy()\n",
    "ppldata.drop(columns=['Year-Month', 'Agency Number','MCC Mean Ratio', 'MCC STD', 'MCC Mean'], inplace=True)\n",
    "ppldata.head()"
   ]
  },
  {
   "cell_type": "code",
   "execution_count": 42,
   "metadata": {},
   "outputs": [
    {
     "name": "stdout",
     "output_type": "stream",
     "text": [
      "StandardScaler(copy=True, with_mean=True, with_std=True)\n"
     ]
    }
   ],
   "source": [
    "# scale the data \n",
    "ppldata2 = ppldata.copy()\n",
    "scaler = StandardScaler()\n",
    "print(scaler.fit(ppldata2))"
   ]
  },
  {
   "cell_type": "code",
   "execution_count": 43,
   "metadata": {},
   "outputs": [
    {
     "data": {
      "text/plain": [
       "KNN(algorithm='auto', contamination=0.1, leaf_size=30, method='largest',\n",
       "  metric='minkowski', metric_params=None, n_jobs=1, n_neighbors=5, p=2,\n",
       "  radius=1.0)"
      ]
     },
     "execution_count": 43,
     "metadata": {},
     "output_type": "execute_result"
    }
   ],
   "source": [
    "# fit the data\n",
    "clf.fit(ppldata2)"
   ]
  },
  {
   "cell_type": "code",
   "execution_count": 44,
   "metadata": {},
   "outputs": [
    {
     "data": {
      "text/plain": [
       "array([306.98165862,   0.84620194,   1.49924297, ...,   0.40229046,\n",
       "         0.50374673,   1.25159937])"
      ]
     },
     "execution_count": 44,
     "metadata": {},
     "output_type": "execute_result"
    }
   ],
   "source": [
    "# get the anomaly score\n",
    "y_test_scores = clf.decision_scores_\n",
    "y_test_scores"
   ]
  },
  {
   "cell_type": "code",
   "execution_count": 45,
   "metadata": {},
   "outputs": [
    {
     "data": {
      "text/plain": [
       "array([1, 0, 0, ..., 0, 0, 0])"
      ]
     },
     "execution_count": 45,
     "metadata": {},
     "output_type": "execute_result"
    }
   ],
   "source": [
    "# get the cluster \n",
    "y_test_pred = clf.predict(ppldata2)\n",
    "y_test_pred"
   ]
  },
  {
   "cell_type": "code",
   "execution_count": 46,
   "metadata": {},
   "outputs": [
    {
     "data": {
      "text/plain": [
       "{0: 4765, 1: 448}"
      ]
     },
     "execution_count": 46,
     "metadata": {},
     "output_type": "execute_result"
    }
   ],
   "source": [
    "unique, counts = np.unique(y_test_pred, return_counts=True)\n",
    "dict(zip(unique, counts))"
   ]
  },
  {
   "cell_type": "code",
   "execution_count": 47,
   "metadata": {},
   "outputs": [
    {
     "data": {
      "text/html": [
       "<div>\n",
       "<style scoped>\n",
       "    .dataframe tbody tr th:only-of-type {\n",
       "        vertical-align: middle;\n",
       "    }\n",
       "\n",
       "    .dataframe tbody tr th {\n",
       "        vertical-align: top;\n",
       "    }\n",
       "\n",
       "    .dataframe thead th {\n",
       "        text-align: right;\n",
       "    }\n",
       "</style>\n",
       "<table border=\"1\" class=\"dataframe\">\n",
       "  <thead>\n",
       "    <tr style=\"text-align: right;\">\n",
       "      <th></th>\n",
       "      <th>Amount</th>\n",
       "      <th>MCC STD Outlier</th>\n",
       "      <th>Duplicate</th>\n",
       "      <th>Days</th>\n",
       "      <th>Cluster</th>\n",
       "      <th>Anomaly Scores</th>\n",
       "    </tr>\n",
       "    <tr>\n",
       "      <th>Last First</th>\n",
       "      <th></th>\n",
       "      <th></th>\n",
       "      <th></th>\n",
       "      <th></th>\n",
       "      <th></th>\n",
       "      <th></th>\n",
       "    </tr>\n",
       "  </thead>\n",
       "  <tbody>\n",
       "    <tr>\n",
       "      <th>150001</th>\n",
       "      <td>4626.460000</td>\n",
       "      <td>0.0</td>\n",
       "      <td>0.0</td>\n",
       "      <td>28.0</td>\n",
       "      <td>1</td>\n",
       "      <td>306.981659</td>\n",
       "    </tr>\n",
       "    <tr>\n",
       "      <th>241002</th>\n",
       "      <td>278.409000</td>\n",
       "      <td>0.0</td>\n",
       "      <td>0.0</td>\n",
       "      <td>1.1</td>\n",
       "      <td>0</td>\n",
       "      <td>0.846202</td>\n",
       "    </tr>\n",
       "    <tr>\n",
       "      <th>420004</th>\n",
       "      <td>133.998125</td>\n",
       "      <td>0.0</td>\n",
       "      <td>0.0</td>\n",
       "      <td>0.0</td>\n",
       "      <td>0</td>\n",
       "      <td>1.499243</td>\n",
       "    </tr>\n",
       "  </tbody>\n",
       "</table>\n",
       "</div>"
      ],
      "text/plain": [
       "                 Amount  MCC STD Outlier  Duplicate  Days  Cluster  \\\n",
       "Last First                                                           \n",
       "150001      4626.460000              0.0        0.0  28.0        1   \n",
       "241002       278.409000              0.0        0.0   1.1        0   \n",
       "420004       133.998125              0.0        0.0   0.0        0   \n",
       "\n",
       "            Anomaly Scores  \n",
       "Last First                  \n",
       "150001          306.981659  \n",
       "241002            0.846202  \n",
       "420004            1.499243  "
      ]
     },
     "execution_count": 47,
     "metadata": {},
     "output_type": "execute_result"
    }
   ],
   "source": [
    "ppldata['Cluster'] = y_test_pred\n",
    "ppldata['Anomaly Scores'] = y_test_scores\n",
    "ppldata.head(3)"
   ]
  },
  {
   "cell_type": "code",
   "execution_count": 48,
   "metadata": {},
   "outputs": [
    {
     "data": {
      "text/html": [
       "<div>\n",
       "<style scoped>\n",
       "    .dataframe tbody tr th:only-of-type {\n",
       "        vertical-align: middle;\n",
       "    }\n",
       "\n",
       "    .dataframe tbody tr th {\n",
       "        vertical-align: top;\n",
       "    }\n",
       "\n",
       "    .dataframe thead th {\n",
       "        text-align: right;\n",
       "    }\n",
       "</style>\n",
       "<table border=\"1\" class=\"dataframe\">\n",
       "  <thead>\n",
       "    <tr style=\"text-align: right;\">\n",
       "      <th></th>\n",
       "      <th>Count</th>\n",
       "      <th>Amount</th>\n",
       "      <th>MCC STD Outlier</th>\n",
       "      <th>Duplicate</th>\n",
       "      <th>Days</th>\n",
       "      <th>Anomaly Scores</th>\n",
       "    </tr>\n",
       "    <tr>\n",
       "      <th>Cluster</th>\n",
       "      <th></th>\n",
       "      <th></th>\n",
       "      <th></th>\n",
       "      <th></th>\n",
       "      <th></th>\n",
       "      <th></th>\n",
       "    </tr>\n",
       "  </thead>\n",
       "  <tbody>\n",
       "    <tr>\n",
       "      <th>0</th>\n",
       "      <td>4765</td>\n",
       "      <td>233.643087</td>\n",
       "      <td>0.013528</td>\n",
       "      <td>0.040638</td>\n",
       "      <td>1.840380</td>\n",
       "      <td>0.622147</td>\n",
       "    </tr>\n",
       "    <tr>\n",
       "      <th>1</th>\n",
       "      <td>448</td>\n",
       "      <td>3229.044869</td>\n",
       "      <td>0.093611</td>\n",
       "      <td>0.043204</td>\n",
       "      <td>2.495354</td>\n",
       "      <td>1844.861429</td>\n",
       "    </tr>\n",
       "  </tbody>\n",
       "</table>\n",
       "</div>"
      ],
      "text/plain": [
       "         Count       Amount  MCC STD Outlier  Duplicate      Days  \\\n",
       "Cluster                                                             \n",
       "0         4765   233.643087         0.013528   0.040638  1.840380   \n",
       "1          448  3229.044869         0.093611   0.043204  2.495354   \n",
       "\n",
       "         Anomaly Scores  \n",
       "Cluster                  \n",
       "0              0.622147  \n",
       "1           1844.861429  "
      ]
     },
     "execution_count": 48,
     "metadata": {},
     "output_type": "execute_result"
    }
   ],
   "source": [
    "comparison = ppldata.groupby('Cluster').mean()\n",
    "comparison.insert(0, column='Count', value=counts)\n",
    "comparison"
   ]
  },
  {
   "cell_type": "markdown",
   "metadata": {},
   "source": [
    "Comments:\n",
    "Given the above KNN ran on all observations, I want to run another model on the dataset when it is grouped by a unique identifier(person). I used \"Last First\" as the proxy to identify people. Then the above chart shows the result. \n",
    "\n",
    "For Cluster 0, it has 4765 people, the average spending is $233, and the MCC STD Outlier score is only one tenth of that in Cluster 1. However, there isn't much distinction in the Duplicate column. It is 0.04, which is similar to Cluster 1. The number of days is 1.8. \n",
    "\n",
    "For Cluster 1, it has 448 people, which is 9.4% of the population. The average spending is very high, it is $3229. Also, there are almost 10% of the people whose transactions would fall outside of the two standard deviations. Lastly, the number of days is also significantly different from Cluster 0. It is at 2.4. \n",
    "\n",
    "The model did a good job in separating the data. Cluster 0 has an anomaly score of 0.62, but Cluster 1 has an anomaly score of 1844. \n",
    "\n",
    "There isn't much difference when I run a KNN on all the observations versus when I run a KNN on people, except for the anomaly score. Maybe it signifies that each person's behavior is consistent and is vastly different fro others. As such, there is a larger gap between the anomaly scores."
   ]
  },
  {
   "cell_type": "code",
   "execution_count": 49,
   "metadata": {},
   "outputs": [
    {
     "data": {
      "text/plain": [
       "0.09401888772298006"
      ]
     },
     "execution_count": 49,
     "metadata": {},
     "output_type": "execute_result"
    }
   ],
   "source": [
    "comparison['Count'][1]/comparison['Count'][0]"
   ]
  },
  {
   "cell_type": "markdown",
   "metadata": {},
   "source": [
    "# PCA <a class='anchor' id='sixth-bullet'><a>\n",
    "PCA is a method that transforms the existing coordinates into a new coordinates system but retain as much information as possible. By calculating the eigenvalues, a new orthogonal vectors (eigen vectors) will be established to plot the existing data points. In my exercise, my goal is to reduce the number of features and to see if there is a clear distinction between the regular data points and the outliers on a hyperplane. Then, I may categorize these data points according to their own similar group. Lastly, I will then get the final label whehther the data belongs to an outlier set. "
   ]
  },
  {
   "cell_type": "markdown",
   "metadata": {},
   "source": [
    "# PCA without groupby <a class='anchor' id='seventh-bullet'><a>"
   ]
  },
  {
   "cell_type": "code",
   "execution_count": 50,
   "metadata": {},
   "outputs": [
    {
     "data": {
      "text/html": [
       "<div>\n",
       "<style scoped>\n",
       "    .dataframe tbody tr th:only-of-type {\n",
       "        vertical-align: middle;\n",
       "    }\n",
       "\n",
       "    .dataframe tbody tr th {\n",
       "        vertical-align: top;\n",
       "    }\n",
       "\n",
       "    .dataframe thead th {\n",
       "        text-align: right;\n",
       "    }\n",
       "</style>\n",
       "<table border=\"1\" class=\"dataframe\">\n",
       "  <thead>\n",
       "    <tr style=\"text-align: right;\">\n",
       "      <th></th>\n",
       "      <th>Amount</th>\n",
       "      <th>MCC STD Outlier</th>\n",
       "      <th>Duplicate</th>\n",
       "      <th>Days</th>\n",
       "    </tr>\n",
       "  </thead>\n",
       "  <tbody>\n",
       "    <tr>\n",
       "      <th>0</th>\n",
       "      <td>890.0</td>\n",
       "      <td>0</td>\n",
       "      <td>1</td>\n",
       "      <td>1</td>\n",
       "    </tr>\n",
       "    <tr>\n",
       "      <th>1</th>\n",
       "      <td>890.0</td>\n",
       "      <td>0</td>\n",
       "      <td>1</td>\n",
       "      <td>1</td>\n",
       "    </tr>\n",
       "    <tr>\n",
       "      <th>2</th>\n",
       "      <td>250.0</td>\n",
       "      <td>0</td>\n",
       "      <td>0</td>\n",
       "      <td>1</td>\n",
       "    </tr>\n",
       "    <tr>\n",
       "      <th>3</th>\n",
       "      <td>108.0</td>\n",
       "      <td>0</td>\n",
       "      <td>0</td>\n",
       "      <td>1</td>\n",
       "    </tr>\n",
       "    <tr>\n",
       "      <th>4</th>\n",
       "      <td>54.0</td>\n",
       "      <td>0</td>\n",
       "      <td>0</td>\n",
       "      <td>1</td>\n",
       "    </tr>\n",
       "  </tbody>\n",
       "</table>\n",
       "</div>"
      ],
      "text/plain": [
       "   Amount  MCC STD Outlier  Duplicate  Days\n",
       "0   890.0                0          1     1\n",
       "1   890.0                0          1     1\n",
       "2   250.0                0          0     1\n",
       "3   108.0                0          0     1\n",
       "4    54.0                0          0     1"
      ]
     },
     "execution_count": 50,
     "metadata": {},
     "output_type": "execute_result"
    }
   ],
   "source": [
    "dfpca = data.copy()\n",
    "dfpca.drop(columns=['Last First','Year-Month', 'Agency Number', 'Agency Name',\n",
    "       'Cardholder Last Name', 'Cardholder First Initial', 'Description',\n",
    "       'Vendor', 'Transaction Date', 'Posted Date',\n",
    "       'Merchant Category Code (MCC)','MCC Mean Ratio','MCC STD', 'MCC Mean'], inplace=True)\n",
    "dfpca.head()"
   ]
  },
  {
   "cell_type": "code",
   "execution_count": 51,
   "metadata": {},
   "outputs": [
    {
     "name": "stdout",
     "output_type": "stream",
     "text": [
      "StandardScaler(copy=True, with_mean=True, with_std=True)\n"
     ]
    }
   ],
   "source": [
    "# scale the data \n",
    "dfpca2 = dfpca.copy()\n",
    "scaler = StandardScaler()\n",
    "print(scaler.fit(dfpca2))"
   ]
  },
  {
   "cell_type": "code",
   "execution_count": 52,
   "metadata": {},
   "outputs": [
    {
     "data": {
      "text/plain": [
       "Index(['Amount', 'MCC STD Outlier', 'Duplicate', 'Days'], dtype='object')"
      ]
     },
     "execution_count": 52,
     "metadata": {},
     "output_type": "execute_result"
    }
   ],
   "source": [
    "dfpca2.columns"
   ]
  },
  {
   "cell_type": "code",
   "execution_count": 53,
   "metadata": {},
   "outputs": [
    {
     "data": {
      "text/plain": [
       "PCA(contamination=0.1, copy=True, iterated_power='auto', n_components=None,\n",
       "  n_selected_components=None, random_state=None, standardization=True,\n",
       "  svd_solver='auto', tol=0.0, weighted=True, whiten=False)"
      ]
     },
     "execution_count": 53,
     "metadata": {},
     "output_type": "execute_result"
    }
   ],
   "source": [
    "# fit the model\n",
    "clf_name = 'PCA'\n",
    "clf = PCA()\n",
    "clf.fit(dfpca2)"
   ]
  },
  {
   "cell_type": "code",
   "execution_count": 54,
   "metadata": {},
   "outputs": [
    {
     "data": {
      "text/plain": [
       "True"
      ]
     },
     "execution_count": 54,
     "metadata": {},
     "output_type": "execute_result"
    }
   ],
   "source": [
    "dfpca2['Amount'].shape == dfpca2['MCC STD Outlier'].shape"
   ]
  },
  {
   "cell_type": "code",
   "execution_count": 55,
   "metadata": {},
   "outputs": [
    {
     "data": {
      "text/plain": [
       "Text(0.5, 1.0, 'Anomaly Scores by PCA')"
      ]
     },
     "execution_count": 55,
     "metadata": {},
     "output_type": "execute_result"
    },
    {
     "data": {
      "image/png": "[encoded data removed]",
      "text/plain": [
       "<Figure size 432x288 with 1 Axes>"
      ]
     },
     "metadata": {
      "needs_background": "light"
     },
     "output_type": "display_data"
    }
   ],
   "source": [
    "# tried to visualize the data\n",
    "y_train_pred = clf.labels_\n",
    "y_train_scores = clf.decision_scores_\n",
    "sns.scatterplot(x=dfpca2['Amount'], y=dfpca2['MCC STD Outlier'], hue=clf.labels_, \n",
    "                alpha=0.6, data=dfpca2, palette='RdBu_r')\n",
    "plt.title('Anomaly Scores by PCA')"
   ]
  },
  {
   "cell_type": "markdown",
   "metadata": {},
   "source": [
    "Comments: <br>\n",
    "For those Cluster 0, it is all 0 for MCC STD Outlier, meaning all transactions lie within the two standard deviation threshold. "
   ]
  },
  {
   "cell_type": "code",
   "execution_count": 56,
   "metadata": {},
   "outputs": [
    {
     "data": {
      "text/plain": [
       "array([1, 1, 0, ..., 0, 1, 0])"
      ]
     },
     "execution_count": 56,
     "metadata": {},
     "output_type": "execute_result"
    }
   ],
   "source": [
    "# predict the data\n",
    "clf.predict(dfpca2)\n",
    "clf.labels_"
   ]
  },
  {
   "cell_type": "code",
   "execution_count": 57,
   "metadata": {},
   "outputs": [
    {
     "data": {
      "text/plain": [
       "array([72.83661659, 72.83661659, 21.60730806, ..., 20.34751684,\n",
       "       57.0293268 , 21.74522425])"
      ]
     },
     "execution_count": 57,
     "metadata": {},
     "output_type": "execute_result"
    }
   ],
   "source": [
    "# get the anomaly score\n",
    "y_test_scores = clf.decision_scores_\n",
    "y_test_scores"
   ]
  },
  {
   "cell_type": "code",
   "execution_count": 58,
   "metadata": {},
   "outputs": [
    {
     "data": {
      "text/plain": [
       "{0: 398215, 1: 44243}"
      ]
     },
     "execution_count": 58,
     "metadata": {},
     "output_type": "execute_result"
    }
   ],
   "source": [
    "# get the count for each cluster\n",
    "unique, counts = np.unique(clf.labels_, return_counts=True)\n",
    "dict(zip(unique, counts))"
   ]
  },
  {
   "cell_type": "code",
   "execution_count": 59,
   "metadata": {
    "collapsed": true,
    "scrolled": true
   },
   "outputs": [],
   "source": [
    "dfpca['Cluster'] = clf.labels_\n",
    "dfpca['Anomaly Score'] = y_test_scores\n",
    "dfpca = dfpca.groupby('Cluster').mean()\n",
    "dfpca.insert(0, column='Count', value=counts)"
   ]
  },
  {
   "cell_type": "code",
   "execution_count": 60,
   "metadata": {},
   "outputs": [
    {
     "data": {
      "text/html": [
       "<div>\n",
       "<style scoped>\n",
       "    .dataframe tbody tr th:only-of-type {\n",
       "        vertical-align: middle;\n",
       "    }\n",
       "\n",
       "    .dataframe tbody tr th {\n",
       "        vertical-align: top;\n",
       "    }\n",
       "\n",
       "    .dataframe thead th {\n",
       "        text-align: right;\n",
       "    }\n",
       "</style>\n",
       "<table border=\"1\" class=\"dataframe\">\n",
       "  <thead>\n",
       "    <tr style=\"text-align: right;\">\n",
       "      <th></th>\n",
       "      <th>Count</th>\n",
       "      <th>Amount</th>\n",
       "      <th>MCC STD Outlier</th>\n",
       "      <th>Duplicate</th>\n",
       "      <th>Days</th>\n",
       "      <th>Anomaly Score</th>\n",
       "    </tr>\n",
       "    <tr>\n",
       "      <th>Cluster</th>\n",
       "      <th></th>\n",
       "      <th></th>\n",
       "      <th></th>\n",
       "      <th></th>\n",
       "      <th></th>\n",
       "      <th></th>\n",
       "    </tr>\n",
       "  </thead>\n",
       "  <tbody>\n",
       "    <tr>\n",
       "      <th>0</th>\n",
       "      <td>398215</td>\n",
       "      <td>295.264628</td>\n",
       "      <td>0.00000</td>\n",
       "      <td>0.000000</td>\n",
       "      <td>1.809216</td>\n",
       "      <td>19.344428</td>\n",
       "    </tr>\n",
       "    <tr>\n",
       "      <th>1</th>\n",
       "      <td>44243</td>\n",
       "      <td>1592.612152</td>\n",
       "      <td>0.23875</td>\n",
       "      <td>0.517325</td>\n",
       "      <td>2.484438</td>\n",
       "      <td>76.278775</td>\n",
       "    </tr>\n",
       "  </tbody>\n",
       "</table>\n",
       "</div>"
      ],
      "text/plain": [
       "          Count       Amount  MCC STD Outlier  Duplicate      Days  \\\n",
       "Cluster                                                              \n",
       "0        398215   295.264628          0.00000   0.000000  1.809216   \n",
       "1         44243  1592.612152          0.23875   0.517325  2.484438   \n",
       "\n",
       "         Anomaly Score  \n",
       "Cluster                 \n",
       "0            19.344428  \n",
       "1            76.278775  "
      ]
     },
     "execution_count": 60,
     "metadata": {},
     "output_type": "execute_result"
    }
   ],
   "source": [
    "dfpca"
   ]
  },
  {
   "cell_type": "markdown",
   "metadata": {},
   "source": [
    "Comments:\n",
    "PCA provides very interesting results. Thinking in terms of the entire model, it does a better job in separation because both \"MCC STD Outlier\" and \"Duplicate\" are 0 for Cluster 0. I belive it is because the eigenvecotrs are successful in creating a higher degree of separtion. However, the difference in anomaly score isn't very high in PCA. They are not as significantly different as they were in KNN modeling. \n",
    "\n",
    "Cluster 0 still has the majority of the population. The average amount of spending is $295. There is no transaction in Cluster 0 that falls outside the two standard deviation nor a duplicate transaction. Lastly the days between transaction and posted is 1.8 days. \n",
    "\n"
   ]
  },
  {
   "cell_type": "markdown",
   "metadata": {},
   "source": [
    "# PCA with different feature engineering method <a class='anchor' id='eighth-bullet'><a>"
   ]
  },
  {
   "cell_type": "code",
   "execution_count": 61,
   "metadata": {
    "collapsed": true
   },
   "outputs": [],
   "source": [
    "data = pd.read_csv('/Users/liangshiting/Desktop/MYSELF/purchase_credit_card.csv')"
   ]
  },
  {
   "cell_type": "code",
   "execution_count": 62,
   "metadata": {},
   "outputs": [
    {
     "data": {
      "text/plain": [
       "Index(['Year-Month', 'Agency Number', 'Agency Name', 'Cardholder Last Name',\n",
       "       'Cardholder First Initial', 'Description', 'Amount', 'Vendor',\n",
       "       'Transaction Date', 'Posted Date', 'Merchant Category Code (MCC)'],\n",
       "      dtype='object')"
      ]
     },
     "execution_count": 62,
     "metadata": {},
     "output_type": "execute_result"
    }
   ],
   "source": [
    "data.columns"
   ]
  },
  {
   "cell_type": "code",
   "execution_count": 63,
   "metadata": {
    "scrolled": true
   },
   "outputs": [
    {
     "data": {
      "text/html": [
       "<div>\n",
       "<style scoped>\n",
       "    .dataframe tbody tr th:only-of-type {\n",
       "        vertical-align: middle;\n",
       "    }\n",
       "\n",
       "    .dataframe tbody tr th {\n",
       "        vertical-align: top;\n",
       "    }\n",
       "\n",
       "    .dataframe thead th {\n",
       "        text-align: right;\n",
       "    }\n",
       "</style>\n",
       "<table border=\"1\" class=\"dataframe\">\n",
       "  <thead>\n",
       "    <tr style=\"text-align: right;\">\n",
       "      <th></th>\n",
       "      <th>Agency Name</th>\n",
       "      <th>Merchant Category Code (MCC)</th>\n",
       "      <th>Countbench</th>\n",
       "      <th>Meanbench</th>\n",
       "      <th>Medianbench</th>\n",
       "    </tr>\n",
       "  </thead>\n",
       "  <tbody>\n",
       "    <tr>\n",
       "      <th>0</th>\n",
       "      <td>ARDMORE HIGHER EDUCATION CENTER</td>\n",
       "      <td>BUSINESS SERVICES NOT ELSEWHERE CLASSIFIED</td>\n",
       "      <td>1</td>\n",
       "      <td>115.120000</td>\n",
       "      <td>115.12</td>\n",
       "    </tr>\n",
       "    <tr>\n",
       "      <th>1</th>\n",
       "      <td>ARDMORE HIGHER EDUCATION CENTER</td>\n",
       "      <td>CATALOG MERCHANTS</td>\n",
       "      <td>7</td>\n",
       "      <td>-53.344286</td>\n",
       "      <td>38.16</td>\n",
       "    </tr>\n",
       "    <tr>\n",
       "      <th>2</th>\n",
       "      <td>ARDMORE HIGHER EDUCATION CENTER</td>\n",
       "      <td>COMPUTER NETWORK/INFORMATION SERVICES</td>\n",
       "      <td>1</td>\n",
       "      <td>18.340000</td>\n",
       "      <td>18.34</td>\n",
       "    </tr>\n",
       "  </tbody>\n",
       "</table>\n",
       "</div>"
      ],
      "text/plain": [
       "                       Agency Name  \\\n",
       "0  ARDMORE HIGHER EDUCATION CENTER   \n",
       "1  ARDMORE HIGHER EDUCATION CENTER   \n",
       "2  ARDMORE HIGHER EDUCATION CENTER   \n",
       "\n",
       "                 Merchant Category Code (MCC)  Countbench   Meanbench  \\\n",
       "0  BUSINESS SERVICES NOT ELSEWHERE CLASSIFIED           1  115.120000   \n",
       "1                           CATALOG MERCHANTS           7  -53.344286   \n",
       "2       COMPUTER NETWORK/INFORMATION SERVICES           1   18.340000   \n",
       "\n",
       "   Medianbench  \n",
       "0       115.12  \n",
       "1        38.16  \n",
       "2        18.34  "
      ]
     },
     "execution_count": 63,
     "metadata": {},
     "output_type": "execute_result"
    }
   ],
   "source": [
    "# creating benchmarks\n",
    "dfbench = data.groupby(['Agency Name','Merchant Category Code (MCC)'\n",
    "                   ]).agg(Countbench=('Merchant Category Code (MCC)', 'count'),\n",
    "                         Meanbench=('Amount','mean'),\n",
    "                         Medianbench=('Amount', 'median')).reset_index().copy()\n",
    "dfbench.head(3)"
   ]
  },
  {
   "cell_type": "code",
   "execution_count": 64,
   "metadata": {},
   "outputs": [
    {
     "data": {
      "text/html": [
       "<div>\n",
       "<style scoped>\n",
       "    .dataframe tbody tr th:only-of-type {\n",
       "        vertical-align: middle;\n",
       "    }\n",
       "\n",
       "    .dataframe tbody tr th {\n",
       "        vertical-align: top;\n",
       "    }\n",
       "\n",
       "    .dataframe thead th {\n",
       "        text-align: right;\n",
       "    }\n",
       "</style>\n",
       "<table border=\"1\" class=\"dataframe\">\n",
       "  <thead>\n",
       "    <tr style=\"text-align: right;\">\n",
       "      <th></th>\n",
       "      <th>Agency Name</th>\n",
       "      <th>Merchant Category Code (MCC)</th>\n",
       "      <th>Year-Month</th>\n",
       "      <th>Countbym</th>\n",
       "      <th>Meanbym</th>\n",
       "      <th>Medianbym</th>\n",
       "    </tr>\n",
       "  </thead>\n",
       "  <tbody>\n",
       "    <tr>\n",
       "      <th>0</th>\n",
       "      <td>ARDMORE HIGHER EDUCATION CENTER</td>\n",
       "      <td>BUSINESS SERVICES NOT ELSEWHERE CLASSIFIED</td>\n",
       "      <td>201311</td>\n",
       "      <td>1</td>\n",
       "      <td>115.12</td>\n",
       "      <td>115.12</td>\n",
       "    </tr>\n",
       "    <tr>\n",
       "      <th>1</th>\n",
       "      <td>ARDMORE HIGHER EDUCATION CENTER</td>\n",
       "      <td>CATALOG MERCHANTS</td>\n",
       "      <td>201307</td>\n",
       "      <td>2</td>\n",
       "      <td>-637.75</td>\n",
       "      <td>-637.75</td>\n",
       "    </tr>\n",
       "    <tr>\n",
       "      <th>2</th>\n",
       "      <td>ARDMORE HIGHER EDUCATION CENTER</td>\n",
       "      <td>CATALOG MERCHANTS</td>\n",
       "      <td>201308</td>\n",
       "      <td>1</td>\n",
       "      <td>669.08</td>\n",
       "      <td>669.08</td>\n",
       "    </tr>\n",
       "  </tbody>\n",
       "</table>\n",
       "</div>"
      ],
      "text/plain": [
       "                       Agency Name  \\\n",
       "0  ARDMORE HIGHER EDUCATION CENTER   \n",
       "1  ARDMORE HIGHER EDUCATION CENTER   \n",
       "2  ARDMORE HIGHER EDUCATION CENTER   \n",
       "\n",
       "                 Merchant Category Code (MCC)  Year-Month  Countbym  Meanbym  \\\n",
       "0  BUSINESS SERVICES NOT ELSEWHERE CLASSIFIED      201311         1   115.12   \n",
       "1                           CATALOG MERCHANTS      201307         2  -637.75   \n",
       "2                           CATALOG MERCHANTS      201308         1   669.08   \n",
       "\n",
       "   Medianbym  \n",
       "0     115.12  \n",
       "1    -637.75  \n",
       "2     669.08  "
      ]
     },
     "execution_count": 64,
     "metadata": {},
     "output_type": "execute_result"
    }
   ],
   "source": [
    "# create the groupby dataframes\n",
    "df = data.groupby(['Agency Name','Merchant Category Code (MCC)','Year-Month'\n",
    "                   ]).agg(Countbym=('Merchant Category Code (MCC)', 'count'),\n",
    "                         Meanbym=('Amount','mean'),\n",
    "                         Medianbym=('Amount', 'median')).reset_index().copy()\n",
    "df.head(3)"
   ]
  },
  {
   "cell_type": "code",
   "execution_count": 65,
   "metadata": {},
   "outputs": [
    {
     "data": {
      "text/html": [
       "<div>\n",
       "<style scoped>\n",
       "    .dataframe tbody tr th:only-of-type {\n",
       "        vertical-align: middle;\n",
       "    }\n",
       "\n",
       "    .dataframe tbody tr th {\n",
       "        vertical-align: top;\n",
       "    }\n",
       "\n",
       "    .dataframe thead th {\n",
       "        text-align: right;\n",
       "    }\n",
       "</style>\n",
       "<table border=\"1\" class=\"dataframe\">\n",
       "  <thead>\n",
       "    <tr style=\"text-align: right;\">\n",
       "      <th></th>\n",
       "      <th>Agency Name</th>\n",
       "      <th>Merchant Category Code (MCC)</th>\n",
       "      <th>Year-Month</th>\n",
       "      <th>Countbym</th>\n",
       "      <th>Meanbym</th>\n",
       "      <th>Medianbym</th>\n",
       "      <th>Countbench</th>\n",
       "      <th>Meanbench</th>\n",
       "      <th>Medianbench</th>\n",
       "    </tr>\n",
       "  </thead>\n",
       "  <tbody>\n",
       "    <tr>\n",
       "      <th>0</th>\n",
       "      <td>ARDMORE HIGHER EDUCATION CENTER</td>\n",
       "      <td>BUSINESS SERVICES NOT ELSEWHERE CLASSIFIED</td>\n",
       "      <td>201311</td>\n",
       "      <td>1</td>\n",
       "      <td>115.12</td>\n",
       "      <td>115.12</td>\n",
       "      <td>1</td>\n",
       "      <td>115.120000</td>\n",
       "      <td>115.12</td>\n",
       "    </tr>\n",
       "    <tr>\n",
       "      <th>1</th>\n",
       "      <td>ARDMORE HIGHER EDUCATION CENTER</td>\n",
       "      <td>CATALOG MERCHANTS</td>\n",
       "      <td>201307</td>\n",
       "      <td>2</td>\n",
       "      <td>-637.75</td>\n",
       "      <td>-637.75</td>\n",
       "      <td>7</td>\n",
       "      <td>-53.344286</td>\n",
       "      <td>38.16</td>\n",
       "    </tr>\n",
       "    <tr>\n",
       "      <th>2</th>\n",
       "      <td>ARDMORE HIGHER EDUCATION CENTER</td>\n",
       "      <td>CATALOG MERCHANTS</td>\n",
       "      <td>201308</td>\n",
       "      <td>1</td>\n",
       "      <td>669.08</td>\n",
       "      <td>669.08</td>\n",
       "      <td>7</td>\n",
       "      <td>-53.344286</td>\n",
       "      <td>38.16</td>\n",
       "    </tr>\n",
       "  </tbody>\n",
       "</table>\n",
       "</div>"
      ],
      "text/plain": [
       "                       Agency Name  \\\n",
       "0  ARDMORE HIGHER EDUCATION CENTER   \n",
       "1  ARDMORE HIGHER EDUCATION CENTER   \n",
       "2  ARDMORE HIGHER EDUCATION CENTER   \n",
       "\n",
       "                 Merchant Category Code (MCC)  Year-Month  Countbym  Meanbym  \\\n",
       "0  BUSINESS SERVICES NOT ELSEWHERE CLASSIFIED      201311         1   115.12   \n",
       "1                           CATALOG MERCHANTS      201307         2  -637.75   \n",
       "2                           CATALOG MERCHANTS      201308         1   669.08   \n",
       "\n",
       "   Medianbym  Countbench   Meanbench  Medianbench  \n",
       "0     115.12           1  115.120000       115.12  \n",
       "1    -637.75           7  -53.344286        38.16  \n",
       "2     669.08           7  -53.344286        38.16  "
      ]
     },
     "execution_count": 65,
     "metadata": {},
     "output_type": "execute_result"
    }
   ],
   "source": [
    "# merge the datasets\n",
    "data = pd.merge(df, dfbench, how='left', on=['Agency Name','Merchant Category Code (MCC)'])\n",
    "data.head(3)"
   ]
  },
  {
   "cell_type": "code",
   "execution_count": 66,
   "metadata": {
    "collapsed": true
   },
   "outputs": [],
   "source": [
    "# create ratios\n",
    "data['Countratio'] = data['Countbym'] / data['Countbench']\n",
    "data['Meanratio'] = data['Meanbym'] / data['Meanbench']\n",
    "data['Medianratio'] = data['Medianbym'] / data['Medianbench']"
   ]
  },
  {
   "cell_type": "code",
   "execution_count": 67,
   "metadata": {
    "scrolled": true
   },
   "outputs": [
    {
     "data": {
      "text/html": [
       "<div>\n",
       "<style scoped>\n",
       "    .dataframe tbody tr th:only-of-type {\n",
       "        vertical-align: middle;\n",
       "    }\n",
       "\n",
       "    .dataframe tbody tr th {\n",
       "        vertical-align: top;\n",
       "    }\n",
       "\n",
       "    .dataframe thead th {\n",
       "        text-align: right;\n",
       "    }\n",
       "</style>\n",
       "<table border=\"1\" class=\"dataframe\">\n",
       "  <thead>\n",
       "    <tr style=\"text-align: right;\">\n",
       "      <th></th>\n",
       "      <th>Agency Name</th>\n",
       "      <th>Merchant Category Code (MCC)</th>\n",
       "      <th>Year-Month</th>\n",
       "      <th>Countratio</th>\n",
       "      <th>Meanratio</th>\n",
       "      <th>Medianratio</th>\n",
       "    </tr>\n",
       "  </thead>\n",
       "  <tbody>\n",
       "    <tr>\n",
       "      <th>0</th>\n",
       "      <td>ARDMORE HIGHER EDUCATION CENTER</td>\n",
       "      <td>BUSINESS SERVICES NOT ELSEWHERE CLASSIFIED</td>\n",
       "      <td>201311</td>\n",
       "      <td>1.000000</td>\n",
       "      <td>1.000000</td>\n",
       "      <td>1.000000</td>\n",
       "    </tr>\n",
       "    <tr>\n",
       "      <th>1</th>\n",
       "      <td>ARDMORE HIGHER EDUCATION CENTER</td>\n",
       "      <td>CATALOG MERCHANTS</td>\n",
       "      <td>201307</td>\n",
       "      <td>0.285714</td>\n",
       "      <td>11.955357</td>\n",
       "      <td>-16.712526</td>\n",
       "    </tr>\n",
       "    <tr>\n",
       "      <th>2</th>\n",
       "      <td>ARDMORE HIGHER EDUCATION CENTER</td>\n",
       "      <td>CATALOG MERCHANTS</td>\n",
       "      <td>201308</td>\n",
       "      <td>0.142857</td>\n",
       "      <td>-12.542674</td>\n",
       "      <td>17.533543</td>\n",
       "    </tr>\n",
       "    <tr>\n",
       "      <th>3</th>\n",
       "      <td>ARDMORE HIGHER EDUCATION CENTER</td>\n",
       "      <td>CATALOG MERCHANTS</td>\n",
       "      <td>201309</td>\n",
       "      <td>0.142857</td>\n",
       "      <td>6.271337</td>\n",
       "      <td>-8.766771</td>\n",
       "    </tr>\n",
       "    <tr>\n",
       "      <th>4</th>\n",
       "      <td>ARDMORE HIGHER EDUCATION CENTER</td>\n",
       "      <td>CATALOG MERCHANTS</td>\n",
       "      <td>201310</td>\n",
       "      <td>0.142857</td>\n",
       "      <td>-6.271337</td>\n",
       "      <td>8.766771</td>\n",
       "    </tr>\n",
       "  </tbody>\n",
       "</table>\n",
       "</div>"
      ],
      "text/plain": [
       "                       Agency Name  \\\n",
       "0  ARDMORE HIGHER EDUCATION CENTER   \n",
       "1  ARDMORE HIGHER EDUCATION CENTER   \n",
       "2  ARDMORE HIGHER EDUCATION CENTER   \n",
       "3  ARDMORE HIGHER EDUCATION CENTER   \n",
       "4  ARDMORE HIGHER EDUCATION CENTER   \n",
       "\n",
       "                 Merchant Category Code (MCC)  Year-Month  Countratio  \\\n",
       "0  BUSINESS SERVICES NOT ELSEWHERE CLASSIFIED      201311    1.000000   \n",
       "1                           CATALOG MERCHANTS      201307    0.285714   \n",
       "2                           CATALOG MERCHANTS      201308    0.142857   \n",
       "3                           CATALOG MERCHANTS      201309    0.142857   \n",
       "4                           CATALOG MERCHANTS      201310    0.142857   \n",
       "\n",
       "   Meanratio  Medianratio  \n",
       "0   1.000000     1.000000  \n",
       "1  11.955357   -16.712526  \n",
       "2 -12.542674    17.533543  \n",
       "3   6.271337    -8.766771  \n",
       "4  -6.271337     8.766771  "
      ]
     },
     "execution_count": 67,
     "metadata": {},
     "output_type": "execute_result"
    }
   ],
   "source": [
    "# drop unnecessary columns\n",
    "data.drop(columns=['Countbym',\n",
    "       'Meanbym', 'Medianbym', 'Countbench', 'Meanbench', 'Medianbench'],inplace=True)\n",
    "data.head()"
   ]
  },
  {
   "cell_type": "code",
   "execution_count": 68,
   "metadata": {
    "collapsed": true
   },
   "outputs": [],
   "source": [
    "# tranpose the data\n",
    "data1 = data.pivot_table(index=['Agency Name', 'Merchant Category Code (MCC)'],\n",
    "                       columns='Year-Month', values='Countratio').reset_index()"
   ]
  },
  {
   "cell_type": "code",
   "execution_count": 69,
   "metadata": {
    "collapsed": true
   },
   "outputs": [],
   "source": [
    "# clean inf and -inf, impute with 0\n",
    "data1.replace([np.inf, -np.inf], np.nan)\n",
    "data1.fillna(value=0, inplace=True)"
   ]
  },
  {
   "cell_type": "code",
   "execution_count": 70,
   "metadata": {
    "collapsed": true
   },
   "outputs": [],
   "source": [
    "# add suffix to the column names\n",
    "data1 = data1.add_suffix('Countratio')\n",
    "data1.rename(columns={\n",
    "    'Merchant Category Code (MCC)Countratio': 'Merchant Category Code (MCC)',\n",
    "    'Agency NameCountratio': \"Agency Name\"},inplace=True)"
   ]
  },
  {
   "cell_type": "code",
   "execution_count": 71,
   "metadata": {
    "collapsed": true
   },
   "outputs": [],
   "source": [
    "data2 = data.pivot_table(index=['Agency Name', 'Merchant Category Code (MCC)'],\n",
    "                       columns='Year-Month', values='Meanratio').reset_index()"
   ]
  },
  {
   "cell_type": "code",
   "execution_count": 72,
   "metadata": {
    "collapsed": true
   },
   "outputs": [],
   "source": [
    "data2.replace([np.inf, -np.inf], np.nan)\n",
    "data2.fillna(value=0, inplace=True)"
   ]
  },
  {
   "cell_type": "code",
   "execution_count": 73,
   "metadata": {
    "collapsed": true
   },
   "outputs": [],
   "source": [
    "data2 = data1.add_suffix('Meanratio')\n",
    "data2.rename(columns={\n",
    "    'Merchant Category Code (MCC)Meanratio': 'Merchant Category Code (MCC)',\n",
    "    'Agency NameMeanratio': \"Agency Name\"},inplace=True)"
   ]
  },
  {
   "cell_type": "code",
   "execution_count": 74,
   "metadata": {
    "collapsed": true
   },
   "outputs": [],
   "source": [
    "data3 = data.pivot_table(index=['Agency Name', 'Merchant Category Code (MCC)'],\n",
    "                       columns='Year-Month', values='Medianratio').reset_index()"
   ]
  },
  {
   "cell_type": "code",
   "execution_count": 75,
   "metadata": {
    "collapsed": true
   },
   "outputs": [],
   "source": [
    "data3.replace([np.inf, -np.inf], np.nan)\n",
    "data3.fillna(value=0, inplace=True)"
   ]
  },
  {
   "cell_type": "code",
   "execution_count": 76,
   "metadata": {
    "collapsed": true
   },
   "outputs": [],
   "source": [
    "data3 = data1.add_suffix('Medianratio')\n",
    "data3.rename(columns={\n",
    "    'Merchant Category Code (MCC)Medianratio': 'Merchant Category Code (MCC)',\n",
    "    'Agency NameMedianratio': \"Agency Name\"},inplace=True)"
   ]
  },
  {
   "cell_type": "code",
   "execution_count": 77,
   "metadata": {
    "collapsed": true
   },
   "outputs": [],
   "source": [
    "# merge all that transposed datasets\n",
    "data = pd.merge(data1,\n",
    "                data2,\n",
    "                on=[\"Agency Name\", 'Merchant Category Code (MCC)'])\n",
    "data = pd.merge(data,\n",
    "                data3,\n",
    "                on=[\"Agency Name\", 'Merchant Category Code (MCC)'])"
   ]
  },
  {
   "cell_type": "code",
   "execution_count": 78,
   "metadata": {
    "collapsed": true
   },
   "outputs": [],
   "source": [
    "# create a copy\n",
    "datan = data.copy()"
   ]
  },
  {
   "cell_type": "code",
   "execution_count": 79,
   "metadata": {},
   "outputs": [
    {
     "data": {
      "text/html": [
       "<div>\n",
       "<style scoped>\n",
       "    .dataframe tbody tr th:only-of-type {\n",
       "        vertical-align: middle;\n",
       "    }\n",
       "\n",
       "    .dataframe tbody tr th {\n",
       "        vertical-align: top;\n",
       "    }\n",
       "\n",
       "    .dataframe thead th {\n",
       "        text-align: right;\n",
       "    }\n",
       "</style>\n",
       "<table border=\"1\" class=\"dataframe\">\n",
       "  <thead>\n",
       "    <tr style=\"text-align: right;\">\n",
       "      <th>Year-Month</th>\n",
       "      <th>201307Countratio</th>\n",
       "      <th>201308Countratio</th>\n",
       "      <th>201309Countratio</th>\n",
       "      <th>201310Countratio</th>\n",
       "      <th>201311Countratio</th>\n",
       "      <th>201312Countratio</th>\n",
       "      <th>201401Countratio</th>\n",
       "      <th>201402Countratio</th>\n",
       "      <th>201403Countratio</th>\n",
       "      <th>201404Countratio</th>\n",
       "      <th>...</th>\n",
       "      <th>201309CountratioMedianratio</th>\n",
       "      <th>201310CountratioMedianratio</th>\n",
       "      <th>201311CountratioMedianratio</th>\n",
       "      <th>201312CountratioMedianratio</th>\n",
       "      <th>201401CountratioMedianratio</th>\n",
       "      <th>201402CountratioMedianratio</th>\n",
       "      <th>201403CountratioMedianratio</th>\n",
       "      <th>201404CountratioMedianratio</th>\n",
       "      <th>201405CountratioMedianratio</th>\n",
       "      <th>201406CountratioMedianratio</th>\n",
       "    </tr>\n",
       "  </thead>\n",
       "  <tbody>\n",
       "    <tr>\n",
       "      <th>0</th>\n",
       "      <td>0.000000</td>\n",
       "      <td>0.000000</td>\n",
       "      <td>0.000000</td>\n",
       "      <td>0.000000</td>\n",
       "      <td>1.000000</td>\n",
       "      <td>0.000000</td>\n",
       "      <td>0.000000</td>\n",
       "      <td>0.0</td>\n",
       "      <td>0.0</td>\n",
       "      <td>0.0</td>\n",
       "      <td>...</td>\n",
       "      <td>0.000000</td>\n",
       "      <td>0.000000</td>\n",
       "      <td>1.000000</td>\n",
       "      <td>0.000000</td>\n",
       "      <td>0.000000</td>\n",
       "      <td>0.0</td>\n",
       "      <td>0.0</td>\n",
       "      <td>0.0</td>\n",
       "      <td>0.0</td>\n",
       "      <td>0.0</td>\n",
       "    </tr>\n",
       "    <tr>\n",
       "      <th>1</th>\n",
       "      <td>0.285714</td>\n",
       "      <td>0.142857</td>\n",
       "      <td>0.142857</td>\n",
       "      <td>0.142857</td>\n",
       "      <td>0.285714</td>\n",
       "      <td>0.000000</td>\n",
       "      <td>0.000000</td>\n",
       "      <td>0.0</td>\n",
       "      <td>0.0</td>\n",
       "      <td>0.0</td>\n",
       "      <td>...</td>\n",
       "      <td>0.142857</td>\n",
       "      <td>0.142857</td>\n",
       "      <td>0.285714</td>\n",
       "      <td>0.000000</td>\n",
       "      <td>0.000000</td>\n",
       "      <td>0.0</td>\n",
       "      <td>0.0</td>\n",
       "      <td>0.0</td>\n",
       "      <td>0.0</td>\n",
       "      <td>0.0</td>\n",
       "    </tr>\n",
       "    <tr>\n",
       "      <th>2</th>\n",
       "      <td>0.000000</td>\n",
       "      <td>0.000000</td>\n",
       "      <td>0.000000</td>\n",
       "      <td>1.000000</td>\n",
       "      <td>0.000000</td>\n",
       "      <td>0.000000</td>\n",
       "      <td>0.000000</td>\n",
       "      <td>0.0</td>\n",
       "      <td>0.0</td>\n",
       "      <td>0.0</td>\n",
       "      <td>...</td>\n",
       "      <td>0.000000</td>\n",
       "      <td>1.000000</td>\n",
       "      <td>0.000000</td>\n",
       "      <td>0.000000</td>\n",
       "      <td>0.000000</td>\n",
       "      <td>0.0</td>\n",
       "      <td>0.0</td>\n",
       "      <td>0.0</td>\n",
       "      <td>0.0</td>\n",
       "      <td>0.0</td>\n",
       "    </tr>\n",
       "    <tr>\n",
       "      <th>3</th>\n",
       "      <td>0.000000</td>\n",
       "      <td>0.000000</td>\n",
       "      <td>0.000000</td>\n",
       "      <td>0.000000</td>\n",
       "      <td>0.000000</td>\n",
       "      <td>1.000000</td>\n",
       "      <td>0.000000</td>\n",
       "      <td>0.0</td>\n",
       "      <td>0.0</td>\n",
       "      <td>0.0</td>\n",
       "      <td>...</td>\n",
       "      <td>0.000000</td>\n",
       "      <td>0.000000</td>\n",
       "      <td>0.000000</td>\n",
       "      <td>1.000000</td>\n",
       "      <td>0.000000</td>\n",
       "      <td>0.0</td>\n",
       "      <td>0.0</td>\n",
       "      <td>0.0</td>\n",
       "      <td>0.0</td>\n",
       "      <td>0.0</td>\n",
       "    </tr>\n",
       "    <tr>\n",
       "      <th>4</th>\n",
       "      <td>0.000000</td>\n",
       "      <td>0.181818</td>\n",
       "      <td>0.090909</td>\n",
       "      <td>0.454545</td>\n",
       "      <td>0.000000</td>\n",
       "      <td>0.181818</td>\n",
       "      <td>0.090909</td>\n",
       "      <td>0.0</td>\n",
       "      <td>0.0</td>\n",
       "      <td>0.0</td>\n",
       "      <td>...</td>\n",
       "      <td>0.090909</td>\n",
       "      <td>0.454545</td>\n",
       "      <td>0.000000</td>\n",
       "      <td>0.181818</td>\n",
       "      <td>0.090909</td>\n",
       "      <td>0.0</td>\n",
       "      <td>0.0</td>\n",
       "      <td>0.0</td>\n",
       "      <td>0.0</td>\n",
       "      <td>0.0</td>\n",
       "    </tr>\n",
       "  </tbody>\n",
       "</table>\n",
       "<p>5 rows × 36 columns</p>\n",
       "</div>"
      ],
      "text/plain": [
       "Year-Month  201307Countratio  201308Countratio  201309Countratio  \\\n",
       "0                   0.000000          0.000000          0.000000   \n",
       "1                   0.285714          0.142857          0.142857   \n",
       "2                   0.000000          0.000000          0.000000   \n",
       "3                   0.000000          0.000000          0.000000   \n",
       "4                   0.000000          0.181818          0.090909   \n",
       "\n",
       "Year-Month  201310Countratio  201311Countratio  201312Countratio  \\\n",
       "0                   0.000000          1.000000          0.000000   \n",
       "1                   0.142857          0.285714          0.000000   \n",
       "2                   1.000000          0.000000          0.000000   \n",
       "3                   0.000000          0.000000          1.000000   \n",
       "4                   0.454545          0.000000          0.181818   \n",
       "\n",
       "Year-Month  201401Countratio  201402Countratio  201403Countratio  \\\n",
       "0                   0.000000               0.0               0.0   \n",
       "1                   0.000000               0.0               0.0   \n",
       "2                   0.000000               0.0               0.0   \n",
       "3                   0.000000               0.0               0.0   \n",
       "4                   0.090909               0.0               0.0   \n",
       "\n",
       "Year-Month  201404Countratio  ...  201309CountratioMedianratio  \\\n",
       "0                        0.0  ...                     0.000000   \n",
       "1                        0.0  ...                     0.142857   \n",
       "2                        0.0  ...                     0.000000   \n",
       "3                        0.0  ...                     0.000000   \n",
       "4                        0.0  ...                     0.090909   \n",
       "\n",
       "Year-Month  201310CountratioMedianratio  201311CountratioMedianratio  \\\n",
       "0                              0.000000                     1.000000   \n",
       "1                              0.142857                     0.285714   \n",
       "2                              1.000000                     0.000000   \n",
       "3                              0.000000                     0.000000   \n",
       "4                              0.454545                     0.000000   \n",
       "\n",
       "Year-Month  201312CountratioMedianratio  201401CountratioMedianratio  \\\n",
       "0                              0.000000                     0.000000   \n",
       "1                              0.000000                     0.000000   \n",
       "2                              0.000000                     0.000000   \n",
       "3                              1.000000                     0.000000   \n",
       "4                              0.181818                     0.090909   \n",
       "\n",
       "Year-Month  201402CountratioMedianratio  201403CountratioMedianratio  \\\n",
       "0                                   0.0                          0.0   \n",
       "1                                   0.0                          0.0   \n",
       "2                                   0.0                          0.0   \n",
       "3                                   0.0                          0.0   \n",
       "4                                   0.0                          0.0   \n",
       "\n",
       "Year-Month  201404CountratioMedianratio  201405CountratioMedianratio  \\\n",
       "0                                   0.0                          0.0   \n",
       "1                                   0.0                          0.0   \n",
       "2                                   0.0                          0.0   \n",
       "3                                   0.0                          0.0   \n",
       "4                                   0.0                          0.0   \n",
       "\n",
       "Year-Month  201406CountratioMedianratio  \n",
       "0                                   0.0  \n",
       "1                                   0.0  \n",
       "2                                   0.0  \n",
       "3                                   0.0  \n",
       "4                                   0.0  \n",
       "\n",
       "[5 rows x 36 columns]"
      ]
     },
     "execution_count": 79,
     "metadata": {},
     "output_type": "execute_result"
    }
   ],
   "source": [
    "# drop columns\n",
    "datan.drop(columns=['Agency Name', 'Merchant Category Code (MCC)'],\n",
    "          inplace=True)\n",
    "datan.head()"
   ]
  },
  {
   "cell_type": "code",
   "execution_count": 80,
   "metadata": {
    "scrolled": true
   },
   "outputs": [
    {
     "name": "stdout",
     "output_type": "stream",
     "text": [
      "StandardScaler(copy=True, with_mean=True, with_std=True)\n"
     ]
    }
   ],
   "source": [
    "# scale the data\n",
    "datas = datan.copy()\n",
    "scaler = StandardScaler()\n",
    "print(scaler.fit(datas))"
   ]
  },
  {
   "cell_type": "code",
   "execution_count": 81,
   "metadata": {},
   "outputs": [
    {
     "data": {
      "text/plain": [
       "PCA(contamination=0.1, copy=True, iterated_power='auto', n_components=None,\n",
       "  n_selected_components=None, random_state=None, standardization=True,\n",
       "  svd_solver='auto', tol=0.0, weighted=True, whiten=False)"
      ]
     },
     "execution_count": 81,
     "metadata": {},
     "output_type": "execute_result"
    }
   ],
   "source": [
    "# fit the data\n",
    "clf.fit(datas)"
   ]
  },
  {
   "cell_type": "code",
   "execution_count": 82,
   "metadata": {},
   "outputs": [
    {
     "data": {
      "text/plain": [
       "array([5.63090401e+35, 2.16378960e+35, 4.92666536e+35, ...,\n",
       "       5.11124233e+35, 2.98225421e+35, 4.70162977e+35])"
      ]
     },
     "execution_count": 82,
     "metadata": {},
     "output_type": "execute_result"
    }
   ],
   "source": [
    "# get the anomaly score\n",
    "y_test_scores = clf.decision_scores_\n",
    "y_test_scores"
   ]
  },
  {
   "cell_type": "code",
   "execution_count": 83,
   "metadata": {},
   "outputs": [
    {
     "data": {
      "text/plain": [
       "array([1, 0, 0, ..., 0, 0, 0])"
      ]
     },
     "execution_count": 83,
     "metadata": {},
     "output_type": "execute_result"
    }
   ],
   "source": [
    "# predict using the model\n",
    "y_test_pred = clf.predict(datas)\n",
    "y_test_pred"
   ]
  },
  {
   "cell_type": "code",
   "execution_count": 84,
   "metadata": {},
   "outputs": [
    {
     "data": {
      "text/html": [
       "<div>\n",
       "<style scoped>\n",
       "    .dataframe tbody tr th:only-of-type {\n",
       "        vertical-align: middle;\n",
       "    }\n",
       "\n",
       "    .dataframe tbody tr th {\n",
       "        vertical-align: top;\n",
       "    }\n",
       "\n",
       "    .dataframe thead th {\n",
       "        text-align: right;\n",
       "    }\n",
       "</style>\n",
       "<table border=\"1\" class=\"dataframe\">\n",
       "  <thead>\n",
       "    <tr style=\"text-align: right;\">\n",
       "      <th>Year-Month</th>\n",
       "      <th>201307Countratio</th>\n",
       "      <th>201308Countratio</th>\n",
       "      <th>201309Countratio</th>\n",
       "      <th>201310Countratio</th>\n",
       "      <th>201311Countratio</th>\n",
       "      <th>201312Countratio</th>\n",
       "      <th>201401Countratio</th>\n",
       "      <th>201402Countratio</th>\n",
       "      <th>201403Countratio</th>\n",
       "      <th>201404Countratio</th>\n",
       "      <th>...</th>\n",
       "      <th>201311CountratioMedianratio</th>\n",
       "      <th>201312CountratioMedianratio</th>\n",
       "      <th>201401CountratioMedianratio</th>\n",
       "      <th>201402CountratioMedianratio</th>\n",
       "      <th>201403CountratioMedianratio</th>\n",
       "      <th>201404CountratioMedianratio</th>\n",
       "      <th>201405CountratioMedianratio</th>\n",
       "      <th>201406CountratioMedianratio</th>\n",
       "      <th>Cluster</th>\n",
       "      <th>Anomaly Score</th>\n",
       "    </tr>\n",
       "  </thead>\n",
       "  <tbody>\n",
       "    <tr>\n",
       "      <th>0</th>\n",
       "      <td>0.000000</td>\n",
       "      <td>0.000000</td>\n",
       "      <td>0.000000</td>\n",
       "      <td>0.000000</td>\n",
       "      <td>1.000000</td>\n",
       "      <td>0.0</td>\n",
       "      <td>0.0</td>\n",
       "      <td>0.0</td>\n",
       "      <td>0.0</td>\n",
       "      <td>0.0</td>\n",
       "      <td>...</td>\n",
       "      <td>1.000000</td>\n",
       "      <td>0.0</td>\n",
       "      <td>0.0</td>\n",
       "      <td>0.0</td>\n",
       "      <td>0.0</td>\n",
       "      <td>0.0</td>\n",
       "      <td>0.0</td>\n",
       "      <td>0.0</td>\n",
       "      <td>1</td>\n",
       "      <td>5.630904e+35</td>\n",
       "    </tr>\n",
       "    <tr>\n",
       "      <th>1</th>\n",
       "      <td>0.285714</td>\n",
       "      <td>0.142857</td>\n",
       "      <td>0.142857</td>\n",
       "      <td>0.142857</td>\n",
       "      <td>0.285714</td>\n",
       "      <td>0.0</td>\n",
       "      <td>0.0</td>\n",
       "      <td>0.0</td>\n",
       "      <td>0.0</td>\n",
       "      <td>0.0</td>\n",
       "      <td>...</td>\n",
       "      <td>0.285714</td>\n",
       "      <td>0.0</td>\n",
       "      <td>0.0</td>\n",
       "      <td>0.0</td>\n",
       "      <td>0.0</td>\n",
       "      <td>0.0</td>\n",
       "      <td>0.0</td>\n",
       "      <td>0.0</td>\n",
       "      <td>0</td>\n",
       "      <td>2.163790e+35</td>\n",
       "    </tr>\n",
       "    <tr>\n",
       "      <th>2</th>\n",
       "      <td>0.000000</td>\n",
       "      <td>0.000000</td>\n",
       "      <td>0.000000</td>\n",
       "      <td>1.000000</td>\n",
       "      <td>0.000000</td>\n",
       "      <td>0.0</td>\n",
       "      <td>0.0</td>\n",
       "      <td>0.0</td>\n",
       "      <td>0.0</td>\n",
       "      <td>0.0</td>\n",
       "      <td>...</td>\n",
       "      <td>0.000000</td>\n",
       "      <td>0.0</td>\n",
       "      <td>0.0</td>\n",
       "      <td>0.0</td>\n",
       "      <td>0.0</td>\n",
       "      <td>0.0</td>\n",
       "      <td>0.0</td>\n",
       "      <td>0.0</td>\n",
       "      <td>0</td>\n",
       "      <td>4.926665e+35</td>\n",
       "    </tr>\n",
       "  </tbody>\n",
       "</table>\n",
       "<p>3 rows × 38 columns</p>\n",
       "</div>"
      ],
      "text/plain": [
       "Year-Month  201307Countratio  201308Countratio  201309Countratio  \\\n",
       "0                   0.000000          0.000000          0.000000   \n",
       "1                   0.285714          0.142857          0.142857   \n",
       "2                   0.000000          0.000000          0.000000   \n",
       "\n",
       "Year-Month  201310Countratio  201311Countratio  201312Countratio  \\\n",
       "0                   0.000000          1.000000               0.0   \n",
       "1                   0.142857          0.285714               0.0   \n",
       "2                   1.000000          0.000000               0.0   \n",
       "\n",
       "Year-Month  201401Countratio  201402Countratio  201403Countratio  \\\n",
       "0                        0.0               0.0               0.0   \n",
       "1                        0.0               0.0               0.0   \n",
       "2                        0.0               0.0               0.0   \n",
       "\n",
       "Year-Month  201404Countratio  ...  201311CountratioMedianratio  \\\n",
       "0                        0.0  ...                     1.000000   \n",
       "1                        0.0  ...                     0.285714   \n",
       "2                        0.0  ...                     0.000000   \n",
       "\n",
       "Year-Month  201312CountratioMedianratio  201401CountratioMedianratio  \\\n",
       "0                                   0.0                          0.0   \n",
       "1                                   0.0                          0.0   \n",
       "2                                   0.0                          0.0   \n",
       "\n",
       "Year-Month  201402CountratioMedianratio  201403CountratioMedianratio  \\\n",
       "0                                   0.0                          0.0   \n",
       "1                                   0.0                          0.0   \n",
       "2                                   0.0                          0.0   \n",
       "\n",
       "Year-Month  201404CountratioMedianratio  201405CountratioMedianratio  \\\n",
       "0                                   0.0                          0.0   \n",
       "1                                   0.0                          0.0   \n",
       "2                                   0.0                          0.0   \n",
       "\n",
       "Year-Month  201406CountratioMedianratio  Cluster  Anomaly Score  \n",
       "0                                   0.0        1   5.630904e+35  \n",
       "1                                   0.0        0   2.163790e+35  \n",
       "2                                   0.0        0   4.926665e+35  \n",
       "\n",
       "[3 rows x 38 columns]"
      ]
     },
     "execution_count": 84,
     "metadata": {},
     "output_type": "execute_result"
    }
   ],
   "source": [
    "# add the cluster column to the original unscaled dataset\n",
    "datan['Cluster'] = y_test_pred\n",
    "datan['Anomaly Score'] = y_test_scores\n",
    "datan.head(3)"
   ]
  },
  {
   "cell_type": "code",
   "execution_count": 85,
   "metadata": {},
   "outputs": [
    {
     "data": {
      "text/plain": [
       "{0: 7595, 1: 832}"
      ]
     },
     "execution_count": 85,
     "metadata": {},
     "output_type": "execute_result"
    }
   ],
   "source": [
    "# find the count for each cluster\n",
    "unique, counts = np.unique(y_test_pred, return_counts=True)\n",
    "dict(zip(unique, counts))"
   ]
  },
  {
   "cell_type": "code",
   "execution_count": 86,
   "metadata": {},
   "outputs": [
    {
     "data": {
      "text/html": [
       "<div>\n",
       "<style scoped>\n",
       "    .dataframe tbody tr th:only-of-type {\n",
       "        vertical-align: middle;\n",
       "    }\n",
       "\n",
       "    .dataframe tbody tr th {\n",
       "        vertical-align: top;\n",
       "    }\n",
       "\n",
       "    .dataframe thead th {\n",
       "        text-align: right;\n",
       "    }\n",
       "</style>\n",
       "<table border=\"1\" class=\"dataframe\">\n",
       "  <thead>\n",
       "    <tr style=\"text-align: right;\">\n",
       "      <th>Year-Month</th>\n",
       "      <th>Count</th>\n",
       "      <th>201307Countratio</th>\n",
       "      <th>201308Countratio</th>\n",
       "      <th>201309Countratio</th>\n",
       "      <th>201310Countratio</th>\n",
       "      <th>201311Countratio</th>\n",
       "      <th>201312Countratio</th>\n",
       "      <th>201401Countratio</th>\n",
       "      <th>201402Countratio</th>\n",
       "      <th>201403Countratio</th>\n",
       "      <th>...</th>\n",
       "      <th>201310CountratioMedianratio</th>\n",
       "      <th>201311CountratioMedianratio</th>\n",
       "      <th>201312CountratioMedianratio</th>\n",
       "      <th>201401CountratioMedianratio</th>\n",
       "      <th>201402CountratioMedianratio</th>\n",
       "      <th>201403CountratioMedianratio</th>\n",
       "      <th>201404CountratioMedianratio</th>\n",
       "      <th>201405CountratioMedianratio</th>\n",
       "      <th>201406CountratioMedianratio</th>\n",
       "      <th>Anomaly Score</th>\n",
       "    </tr>\n",
       "    <tr>\n",
       "      <th>Cluster</th>\n",
       "      <th></th>\n",
       "      <th></th>\n",
       "      <th></th>\n",
       "      <th></th>\n",
       "      <th></th>\n",
       "      <th></th>\n",
       "      <th></th>\n",
       "      <th></th>\n",
       "      <th></th>\n",
       "      <th></th>\n",
       "      <th></th>\n",
       "      <th></th>\n",
       "      <th></th>\n",
       "      <th></th>\n",
       "      <th></th>\n",
       "      <th></th>\n",
       "      <th></th>\n",
       "      <th></th>\n",
       "      <th></th>\n",
       "      <th></th>\n",
       "      <th></th>\n",
       "    </tr>\n",
       "  </thead>\n",
       "  <tbody>\n",
       "    <tr>\n",
       "      <th>0</th>\n",
       "      <td>7595</td>\n",
       "      <td>0.092084</td>\n",
       "      <td>0.069824</td>\n",
       "      <td>0.097719</td>\n",
       "      <td>0.104465</td>\n",
       "      <td>0.059453</td>\n",
       "      <td>0.046266</td>\n",
       "      <td>0.062101</td>\n",
       "      <td>0.060596</td>\n",
       "      <td>0.095331</td>\n",
       "      <td>...</td>\n",
       "      <td>0.104465</td>\n",
       "      <td>0.059453</td>\n",
       "      <td>0.046266</td>\n",
       "      <td>0.062101</td>\n",
       "      <td>0.060596</td>\n",
       "      <td>0.095331</td>\n",
       "      <td>0.104479</td>\n",
       "      <td>0.101003</td>\n",
       "      <td>0.106677</td>\n",
       "      <td>2.846874e+35</td>\n",
       "    </tr>\n",
       "    <tr>\n",
       "      <th>1</th>\n",
       "      <td>832</td>\n",
       "      <td>0.000120</td>\n",
       "      <td>0.236779</td>\n",
       "      <td>0.000120</td>\n",
       "      <td>0.000000</td>\n",
       "      <td>0.210670</td>\n",
       "      <td>0.167643</td>\n",
       "      <td>0.195913</td>\n",
       "      <td>0.188678</td>\n",
       "      <td>0.000075</td>\n",
       "      <td>...</td>\n",
       "      <td>0.000000</td>\n",
       "      <td>0.210670</td>\n",
       "      <td>0.167643</td>\n",
       "      <td>0.195913</td>\n",
       "      <td>0.188678</td>\n",
       "      <td>0.000075</td>\n",
       "      <td>0.000000</td>\n",
       "      <td>0.000000</td>\n",
       "      <td>0.000000</td>\n",
       "      <td>5.679270e+35</td>\n",
       "    </tr>\n",
       "  </tbody>\n",
       "</table>\n",
       "<p>2 rows × 38 columns</p>\n",
       "</div>"
      ],
      "text/plain": [
       "Year-Month  Count  201307Countratio  201308Countratio  201309Countratio  \\\n",
       "Cluster                                                                   \n",
       "0            7595          0.092084          0.069824          0.097719   \n",
       "1             832          0.000120          0.236779          0.000120   \n",
       "\n",
       "Year-Month  201310Countratio  201311Countratio  201312Countratio  \\\n",
       "Cluster                                                            \n",
       "0                   0.104465          0.059453          0.046266   \n",
       "1                   0.000000          0.210670          0.167643   \n",
       "\n",
       "Year-Month  201401Countratio  201402Countratio  201403Countratio  ...  \\\n",
       "Cluster                                                           ...   \n",
       "0                   0.062101          0.060596          0.095331  ...   \n",
       "1                   0.195913          0.188678          0.000075  ...   \n",
       "\n",
       "Year-Month  201310CountratioMedianratio  201311CountratioMedianratio  \\\n",
       "Cluster                                                                \n",
       "0                              0.104465                     0.059453   \n",
       "1                              0.000000                     0.210670   \n",
       "\n",
       "Year-Month  201312CountratioMedianratio  201401CountratioMedianratio  \\\n",
       "Cluster                                                                \n",
       "0                              0.046266                     0.062101   \n",
       "1                              0.167643                     0.195913   \n",
       "\n",
       "Year-Month  201402CountratioMedianratio  201403CountratioMedianratio  \\\n",
       "Cluster                                                                \n",
       "0                              0.060596                     0.095331   \n",
       "1                              0.188678                     0.000075   \n",
       "\n",
       "Year-Month  201404CountratioMedianratio  201405CountratioMedianratio  \\\n",
       "Cluster                                                                \n",
       "0                              0.104479                     0.101003   \n",
       "1                              0.000000                     0.000000   \n",
       "\n",
       "Year-Month  201406CountratioMedianratio  Anomaly Score  \n",
       "Cluster                                                 \n",
       "0                              0.106677   2.846874e+35  \n",
       "1                              0.000000   5.679270e+35  \n",
       "\n",
       "[2 rows x 38 columns]"
      ]
     },
     "execution_count": 86,
     "metadata": {},
     "output_type": "execute_result"
    }
   ],
   "source": [
    "# showcase the results\n",
    "datan = datan.groupby('Cluster').mean()\n",
    "datan.insert(0, column='Count', value=counts)\n",
    "datan"
   ]
  },
  {
   "cell_type": "markdown",
   "metadata": {},
   "source": [
    "Comments:\n",
    "Even after a new round of feature engineering, I still have a cluster 1 that is about 10% of the population. Each column here signifies the ratio at a different Year-Month. Most of the variables are different significantly. One interesting note is that the anomaly scores are not very different from each other. It is not as far away as my previous models had developed. "
   ]
  },
  {
   "cell_type": "code",
   "execution_count": 87,
   "metadata": {},
   "outputs": [
    {
     "data": {
      "image/png": "[encoded data removed]",
      "text/plain": [
       "<Figure size 432x288 with 1 Axes>"
      ]
     },
     "metadata": {
      "needs_background": "light"
     },
     "output_type": "display_data"
    }
   ],
   "source": [
    "plt.hist(y_test_scores,bins=100)\n",
    "plt.title('Histogram with Auto Bins')\n",
    "# plt.ylim([0,500])\n",
    "plt.xlim([0,1e+36])\n",
    "plt.show()"
   ]
  },
  {
   "cell_type": "markdown",
   "metadata": {},
   "source": [
    "Comment:\n",
    "I was expecting a chart similar to that we saw in class. However, out output looks very interesting. A high frequency of anomaly scores appear to be between 0.4 and 0.6. "
   ]
  },
  {
   "cell_type": "markdown",
   "metadata": {},
   "source": [
    "# Conclusion <br>\n",
    "In this exercise, I had tried multiple feature engineering methods. I first feature engieered to the whole dataset, then I feature engieered by \"Last Frist\". Lastly, I created time-series-like features for modeling. I probably had a bug somewhere that inhibited me from graphing the anomaly scores. As such, I could not define the threshold. However, I really like the PyOD package, especially the many methods that come along with it. "
   ]
  }
 ],
 "metadata": {
  "kernelspec": {
   "display_name": "Python 3",
   "language": "python",
   "name": "python3"
  },
  "language_info": {
   "codemirror_mode": {
    "name": "ipython",
    "version": 3
   },
   "file_extension": ".py",
   "mimetype": "text/x-python",
   "name": "python",
   "nbconvert_exporter": "python",
   "pygments_lexer": "ipython3",
   "version": "3.6.3"
  }
 },
 "nbformat": 4,
 "nbformat_minor": 2
}
